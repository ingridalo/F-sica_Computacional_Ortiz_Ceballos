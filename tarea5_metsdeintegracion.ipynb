{
 "cells": [
  {
   "cell_type": "markdown",
   "metadata": {},
   "source": [
    "# MÉTODO DE INTEGRACIÓN DE RIEMANN"
   ]
  },
  {
   "cell_type": "markdown",
   "metadata": {},
   "source": [
    "La suma de Riemann consiste en trazar un número finito de rectángulos dentro de un área irregular, como lo es el área de bajo de na curva. Posteriormente calculamos el área de cada uno de ellos y los sumamos. Un problema muy grande de este método es que al sumar las áreas obtenemos un margen de error bastante grande. En la sigueinte figura se muestra gráficamente el método de integración de Riemann y se puede notar que al hacer más particiones al área a integrar, el error es menor."
   ]
  },
  {
   "cell_type": "markdown",
   "metadata": {},
   "source": [
    "![FIGURA 1](riemann.png)"
   ]
  },
  {
   "cell_type": "markdown",
   "metadata": {},
   "source": [
    "Por lo tanto el valor de la integral está dado por:"
   ]
  },
  {
   "cell_type": "markdown",
   "metadata": {},
   "source": [
    "$\\int_{a}^{b} f(x)  dx = \\lim\\limits_{n\\rightarrow \\infty}f(x) \\frac{b-a}{n} \\sum_{k=1}^{n} f(a+k\\frac{b-a}{n})$"
   ]
  },
  {
   "cell_type": "markdown",
   "metadata": {},
   "source": [
    "# REGLA DEL TRAPECIO"
   ]
  },
  {
   "cell_type": "markdown",
   "metadata": {},
   "source": [
    "Para aplicar esta regla se pide que f(x) sea continua y positiva en [a,b]. La regla se basa en aproximar el valor de la integral de f(x) por el de la función lineal que pasa a través de los puntos (a, f(a)) y (b, f(b)). La integral de ésta es igual al área del trapecio bajo la gráfica de la función lineal. Se sigue que:"
   ]
  },
  {
   "cell_type": "markdown",
   "metadata": {},
   "source": [
    "$  \\int_{a}^{b} f(x)  dx \\approx (b-a)\\frac{f(a)+f(b)}{2}$"
   ]
  },
  {
   "cell_type": "markdown",
   "metadata": {},
   "source": [
    "Y el error está dado por:"
   ]
  },
  {
   "cell_type": "markdown",
   "metadata": {},
   "source": [
    "$\\epsilon = -\\frac{(b-a)^{3}}{12} f^{''}(\\xi)$ "
   ]
  },
  {
   "cell_type": "markdown",
   "metadata": {},
   "source": [
    "donde $ \\xi $ es un número entre a y b. "
   ]
  },
  {
   "cell_type": "markdown",
   "metadata": {},
   "source": [
    "### REGLA DEL TRAPECIO COMPUESTA"
   ]
  },
  {
   "cell_type": "markdown",
   "metadata": {},
   "source": [
    "Para aplicar esta regla se pide que f(x) sea continua y positiva en [a,b]. La regla aproxima una integral definida en [a,b] utilizando n trapecios, para esto se divide el intervalo [a,b] en n subintervalos, cada uno de ancho $ \\Delta x = \\frac{b-a}{n} $. Por lo tanto la integral queda como:"
   ]
  },
  {
   "cell_type": "markdown",
   "metadata": {},
   "source": [
    "$ \\int_{a}^{b} f(x)  dx \\approx \\frac{h}{2} [f(a)+2f(a+h)+2f(a+2h)+...+f(b)] $"
   ]
  },
  {
   "cell_type": "markdown",
   "metadata": {},
   "source": [
    "$ \\Rightarrow \\int_{a}^{b} f(x)  dx \\approx \\frac{b-a}{n} [ \\frac{f(a)+f(b)}{2} + \\sum_{k=1}^{n-1} f(a +k\\frac{b-a}{n})]$"
   ]
  },
  {
   "cell_type": "markdown",
   "metadata": {},
   "source": [
    "El error en esta aproximación es:"
   ]
  },
  {
   "cell_type": "markdown",
   "metadata": {},
   "source": [
    "$\\epsilon = -\\frac{(b-a)^{3}}{12n^{2}} f^{''}(\\xi)$ "
   ]
  },
  {
   "cell_type": "markdown",
   "metadata": {},
   "source": [
    "donde $ \\xi $ es un número entre a y b. "
   ]
  },
  {
   "cell_type": "markdown",
   "metadata": {},
   "source": [
    "En la siguiente figura se muestra gráficamente la regla del trapecio simple y compuesta respectivamente."
   ]
  },
  {
   "cell_type": "markdown",
   "metadata": {},
   "source": [
    "![FIGURA 1](trapecio.png)"
   ]
  },
  {
   "cell_type": "markdown",
   "metadata": {},
   "source": [
    "# REGLA DE SIMPSON"
   ]
  },
  {
   "cell_type": "markdown",
   "metadata": {},
   "source": [
    "El método utilizado para la regla de Simpson sigue la misma \"filosofía\" que la regla de trapecios, pero aproximando los subintervalos de f mediante polinomios de segundo grado. El procedimiento es similar al de los Trapecios con la condición de que el número n de subintervalos debe ser un número par, esta condición surge del hecho que para definir la ecuación de una parábola se necesitan tres puntos. La siguiente imagen muestra gráficamente la aproximación por este método."
   ]
  },
  {
   "cell_type": "markdown",
   "metadata": {},
   "source": [
    "![FIGURA 3](simpson.png)"
   ]
  },
  {
   "cell_type": "markdown",
   "metadata": {},
   "source": [
    "Por lo tanto, la integral $I= \\int_{a}^{b} f(x)dx $ es equivalente a:"
   ]
  },
  {
   "cell_type": "markdown",
   "metadata": {},
   "source": [
    "$I=\\int_{a}^{b} P_{2}(x)dx + E(f) = \\frac{b-a}{6} [f(a)+4f(m)+f(b)] + E(f)$"
   ]
  },
  {
   "cell_type": "markdown",
   "metadata": {},
   "source": [
    "Donde $m=\\frac{a+b}{2}$ y $E(f)$ es el error. Por lo tanto:"
   ]
  },
  {
   "cell_type": "markdown",
   "metadata": {},
   "source": [
    "$\\int_{a}^{b} f(x)dx \\approx \\frac{b-a}{6} [f(a)+4f(m)+f(b)]$"
   ]
  },
  {
   "cell_type": "markdown",
   "metadata": {},
   "source": [
    "$E(f)=-\\frac{h^{5}}{90} f^{(4)}(\\xi)$ donde $ h= \\frac{b-a}{2}$ y $\\xi$ es un número entre [a,b]"
   ]
  },
  {
   "cell_type": "markdown",
   "metadata": {},
   "source": [
    "### REGLA DE SIMPSON COMPUESTA"
   ]
  },
  {
   "cell_type": "markdown",
   "metadata": {},
   "source": [
    "Se divide el intervalo [a,b] en n subintervalos iguales (con n par), de manera que $x_{i}=a+ih$ con $h= \\frac{b-a}{2}$ para $i=0,1,...,n$. Después se aplica la regla de Simpsona a cada subintervalo $[x_{j-a},x_{j+1}]$ con $j=1,3,5,...n-1$ y se suman las integrales, obteniendo:"
   ]
  },
  {
   "cell_type": "markdown",
   "metadata": {},
   "source": [
    "$\\int_{a}^{b} f(x)dx \\approx \\frac{h}{3} [f(x_{0})+2 \\sum_{j=1}^{\\frac{n}{2}-1} f(x_{2j}) +4\\sum_{j=1}^{\\frac{n}{2}} f(x_{2j-1}) + f(x_{n})] $"
   ]
  },
  {
   "cell_type": "markdown",
   "metadata": {},
   "source": [
    "El máximo error está dado por la expresión:"
   ]
  },
  {
   "cell_type": "markdown",
   "metadata": {},
   "source": [
    "$ E_{máx}(f)=(b-a)\\frac{h^{4}}{180} máx_{a\\leq \\xi \\leq b} | f^{(4)}(\\xi) | $"
   ]
  }
 ],
 "metadata": {
  "kernelspec": {
   "display_name": "Julia 0.6.0",
   "language": "julia",
   "name": "julia-0.6"
  },
  "language_info": {
   "file_extension": ".jl",
   "mimetype": "application/julia",
   "name": "julia",
   "version": "0.6.0"
  }
 },
 "nbformat": 4,
 "nbformat_minor": 2
}
