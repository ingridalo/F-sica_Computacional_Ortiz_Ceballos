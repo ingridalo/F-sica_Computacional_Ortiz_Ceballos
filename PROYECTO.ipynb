{
 "cells": [
  {
   "cell_type": "markdown",
   "metadata": {},
   "source": [
    "# Ecuaciones diferenciales parciales\n",
    "Las ecuaciones diferenciales parciales (EDPs) constituyen una área de suma importancia en la física, ya que modelan sistemas que varían con respecto a más de una variable independiente, por ejemplo, tanto el tiempo como el espacio.\n",
    "\n",
    "Del punto de vista numérico, el tipo de EDPs que es (conceptualmente) más sencillo son las llamadas **parabólicas**, es decir, **ecuaciones de evolución**, de las cuales la más conocida es la **ecuación de calor** o **ecuación de difusión**."
   ]
  },
  {
   "cell_type": "markdown",
   "metadata": {},
   "source": [
    "# Ecuación de calor\n",
    "La ecuación de calor modela el esparcimiento en el tiempo y en el espacio de un \"paquete\" de calor (perturbación local de temperatura en una región) o un \"paquete\" de concentración de una sustancia física o química. \n",
    "\n",
    "Llamemos $u(t, \\mathbf{x})$ la temperatura o la concentración de la sustancia en la posición $\\mathbf{x}$ al tiempo $t$. Recordemos que la ecuación de calor es\n",
    "\n",
    "$$\\frac{\\partial u(t, \\mathbf{x})}{\\partial t} = D \\, \\nabla^2 u(t, \\mathbf{x}),$$\n",
    "\n",
    "con $\\nabla^2 := \\frac{\\partial^2}{\\partial x^2} + \\frac{\\partial^2}{\\partial y^2} + \\frac{\\partial^2}{\\partial z^2}$ en tres dimensiones.\n",
    "\n",
    "Esta ecuación nos dice cómo varía la concentración en el tiempo, dadas las condiciones locales en el espacio. Se deriva en términos de una ley de conservación:\n",
    "\n",
    "$$\\frac{\\partial u}{\\partial t} + \\nabla \\cdot \\mathbf{J} = 0,$$\n",
    "\n",
    "donde el flujo de calor o de concentración $\\mathbf{J}$ es proporcional a la gradiente local:\n",
    "\n",
    "$$\\mathbf{J} = -D \\, \\nabla u.$$\n",
    "\n",
    "La ecuación de calor es una **ecuación de evolución** que describe cómo evoluciona el sistema en el tiempo. "
   ]
  },
  {
   "cell_type": "markdown",
   "metadata": {},
   "source": [
    "## Una dimensión\n",
    "\n",
    "Empecemos con el caso más sencillo: con sólo una dimensión espacial. En este caso, la ecuación de calor se reduce a\n",
    "\n",
    "$$\\frac{\\partial u(t, x)}{\\partial t} = D \\frac{\\partial^2 u(t, x)}{\\partial x^2}.$$\n",
    "\n",
    "Para resolverla, necesitaremos además:\n",
    "- una condición inicial $u(t=0, x) = f(x)$ (una función del espacio)\n",
    "- condiciones en la frontera, $u(t, x)$ para todo $x$ en la frontera del dominio espacial, y para todo $t$."
   ]
  },
  {
   "cell_type": "markdown",
   "metadata": {},
   "source": [
    "## Métodos numéricos para la ecuación de calor\n",
    "Dado que, como siempre, no podemos resolver problemas de naturaleza continua en la computadora, debemos *aproximar* la solución $u(t, x)$ de alguna forma. La manera más sencilla es utilizar una **discretización**."
   ]
  },
  {
   "cell_type": "markdown",
   "metadata": {},
   "source": [
    "Para discretizar la EDP, aproximamos $$\\frac{\\partial u}{\\partial t} (t_n, x_i) \\approx \\frac{u_i ^{n+1} - u_i ^n}{h}$$\n",
    "\n",
    "Por otro lado, $$u(t,x+h) + u(t,x-h) \\approx 2u(t,x) + h^2 \\ddot{u}(t,x) + \\mathcal{O}(h^3)$$ \n",
    "Por lo que $$\\frac{\\partial^2 u}{\\partial x^2} (t_n,x_i) \\approx \\frac{u(t_n, x_i + k) - 2u(t_n,x_i) + u(t_n, x_i - k)}{k^2} \\approx \\frac{u_{i+1}^n -2u_i ^n + u_{î-1}^n}{k^2}$$\n",
    "\n",
    "Así la ecuacion discretizada queda $$\\frac{u_i ^{n+1} - u_i ^n}{h} = D\\frac{u_{i+1}^n - 2u_i ^n + u_{i-1}^n}{k^2}$$\n",
    "\n",
    "Entonces se obtiene: $$u_i ^{n+1} = u_i ^n + D\\frac{h}{k^2}(u_{i+1}^n - 2u_i ^n + u_{i-1}^n)$$"
   ]
  },
  {
   "cell_type": "code",
   "execution_count": 2,
   "metadata": {},
   "outputs": [
    {
     "name": "stderr",
     "output_type": "stream",
     "text": [
      "\u001b[1m\u001b[34mINFO: Cloning cache of OffsetArrays from https://github.com/JuliaArrays/OffsetArrays.jl.git\n",
      "\u001b[0m\u001b[1m\u001b[34mINFO: Installing OffsetArrays v0.3.0\n",
      "\u001b[0m\u001b[1m\u001b[34mINFO: Package database updated\n",
      "\u001b[0m\u001b[1m\u001b[34mINFO: METADATA is out-of-date — you may not have the latest version of OffsetArrays\n",
      "\u001b[0m\u001b[1m\u001b[34mINFO: Use `Pkg.update()` to get the latest versions of your packages\n",
      "\u001b[0m"
     ]
    }
   ],
   "source": [
    "Pkg.add(\"OffsetArrays\")"
   ]
  },
  {
   "cell_type": "code",
   "execution_count": 3,
   "metadata": {},
   "outputs": [
    {
     "name": "stderr",
     "output_type": "stream",
     "text": [
      "\u001b[1m\u001b[34mINFO: Precompiling module OffsetArrays.\n",
      "\u001b[0m"
     ]
    }
   ],
   "source": [
    "using OffsetArrays #Usamos esto para para poder utilizar arreglos cuyos índices empiecen en -L y terminen en L"
   ]
  },
  {
   "cell_type": "markdown",
   "metadata": {},
   "source": [
    "El siguiente método es la discretización de la ecuación de calor para una dimensión en un intervalo de $x=-L$ a $x=L$, con condición inicial $u(t=0, x) = \\delta(x)$, donde $\\delta$ es la delta de Dirac, y condiciones de frontera absorbentes (de Dirichlet), es decir, $u(t, -L) = u(t, +L) = 0$ para todo $t > 0$.\n",
    "\n",
    "Para representar a la función delta de Dirac, se puede promediar la función $$u_0 (x_i) = \\frac{\\int_{x_i - \\tfrac{k}{2}}^{x_i + \\tfrac{k}{2}} f(x) dx}{k}$$\n",
    "Si $f(x) = \\delta(x-x_i)$ entonces da $\\tfrac{1}{k}$ en $x_i$ y 0 $\\forall   j \\neq i$"
   ]
  },
  {
   "cell_type": "code",
   "execution_count": 19,
   "metadata": {},
   "outputs": [
    {
     "name": "stderr",
     "output_type": "stream",
     "text": [
      "WARNING: Method definition calor_delta(Any, Any, Any, Any, Any, Any) in module Main at In[16]:2 overwritten at In[19]:2.\n"
     ]
    },
    {
     "data": {
      "text/plain": [
       "calor_delta (generic function with 1 method)"
      ]
     },
     "execution_count": 19,
     "metadata": {},
     "output_type": "execute_result"
    }
   ],
   "source": [
    "function calor_delta(h,k,t0,tf,L,D) #Con esto hacemos más general la función, pues podemos elegir las condiciones iniciales en t \n",
    "    th = Float64[]\n",
    "    xk = Float64[]\n",
    "    for i in t0:h:tf\n",
    "        push!(th,i)\n",
    "    end\n",
    "    for i in -L:k:L #en una dimensión estamos considerando el intervalo [-L,L]\n",
    "        push!(xk,i)\n",
    "    end\n",
    "    U = Float64[]\n",
    "    for i in 1:length(xk)\n",
    "        if xk[i] == 0\n",
    "             push!(U,1/k)\n",
    "        else\n",
    "            push!(U,0.0)\n",
    "        end\n",
    "    end\n",
    "    Ui = [transpose(U) ; zeros((length(th) -1),length(xk))] #Se usa transpose para transponer la matriz\n",
    "    for i in 2:length(th)\n",
    "        for j in 1:length(U)\n",
    "            if j == 1\n",
    "                Ui[i,j] = 0.0\n",
    "            elseif j == length(U)\n",
    "                Ui[i,j] = 0.0\n",
    "            else\n",
    "                Ui[i,j] = Ui[i - 1,j] + D*(h/(k^2))*(Ui[i - 1, j + 1] - 2*Ui[i - 1,j] + Ui[i - 1, j - 1])\n",
    "            end\n",
    "        end\n",
    "    end\n",
    "    return Ui\n",
    "end"
   ]
  },
  {
   "cell_type": "code",
   "execution_count": 20,
   "metadata": {},
   "outputs": [
    {
     "data": {
      "text/plain": [
       "51×101 Array{Float64,2}:\n",
       " 0.0  0.0      0.0        0.0          …  0.0        0.0      0.0\n",
       " 0.0  0.0      0.0        0.0             0.0        0.0      0.0\n",
       " 0.0  0.0      0.0        0.0             0.0        0.0      0.0\n",
       " 0.0  0.0      0.0        0.0             0.0        0.0      0.0\n",
       " 0.0  0.0      0.0        0.0             0.0        0.0      0.0\n",
       " 0.0  0.0      0.0        0.0          …  0.0        0.0      0.0\n",
       " 0.0  0.0      0.0        0.0             0.0        0.0      0.0\n",
       " 0.0  0.0      0.0        0.0             0.0        0.0      0.0\n",
       " 0.0  0.0      0.0        0.0             0.0        0.0      0.0\n",
       " 0.0  0.0      0.0        0.0             0.0        0.0      0.0\n",
       " 0.0  0.0      0.0        0.0          …  0.0        0.0      0.0\n",
       " 0.0  0.0      0.0        0.0             0.0        0.0      0.0\n",
       " 0.0  0.0      0.0        0.0             0.0        0.0      0.0\n",
       " ⋮                                     ⋱                      ⋮  \n",
       " 0.0  0.0      0.0        0.0             0.0        0.0      0.0\n",
       " 0.0  0.0      0.0        0.0          …  0.0        0.0      0.0\n",
       " 0.0  0.0      0.0        0.0             0.0        0.0      0.0\n",
       " 0.0  0.0      0.0        0.0             0.0        0.0      0.0\n",
       " 0.0  0.0      0.0        0.0             0.0        0.0      0.0\n",
       " 0.0  0.0      0.0        0.0             0.0        0.0      0.0\n",
       " 0.0  0.0      0.0        0.0          …  0.0        0.0      0.0\n",
       " 0.0  0.0      0.0        0.0             0.0        0.0      0.0\n",
       " 0.0  0.0      0.0        1.0e-46         0.0        0.0      0.0\n",
       " 0.0  0.0      1.0e-47    3.84e-45        1.0e-47    0.0      0.0\n",
       " 0.0  1.0e-48  3.92e-46   7.5313e-44      3.92e-46   1.0e-48  0.0\n",
       " 0.0  4.0e-47  7.845e-45  1.00548e-42  …  7.845e-45  4.0e-47  0.0"
      ]
     },
     "execution_count": 20,
     "metadata": {},
     "output_type": "execute_result"
    }
   ],
   "source": [
    "calor_delta(0.1,0.1,0,5,5,0.01) #Ejemplo"
   ]
  },
  {
   "cell_type": "markdown",
   "metadata": {},
   "source": [
    "## Dos dimensiones"
   ]
  },
  {
   "cell_type": "markdown",
   "metadata": {},
   "source": [
    "Recordando que $\\nabla^2 u(x,y,t) = \\frac{\\partial^2 u}{\\partial x^2} + \\frac{\\partial^2 u}{\\partial y^2}$, entonces podemos discretizar la ecuación de la siguiente forma:\n",
    "\n",
    "Aproximando $$\\frac{\\partial u}{\\partial t} (t_n, x_i, y_j) \\approx \\frac{u_{i,j} ^{n+1} - u_{i,j} ^n}{h}$$\n",
    "\n",
    "Por otro lado, $$u(t,x + k,y + k) + u(t,x - k, y - k) \\approx 2u(t,x,y) + k^2 \\ddot{u}(t,x,y) + \\mathcal{O}(k^3)$$\n",
    "\n",
    "Donde $\\ddot{u}(t,x,y) = \\frac{\\partial^2 u}{\\partial x^2} + \\frac{\\partial^2 u}{\\partial y^2}$,\n",
    "por lo que $$\\left(\\frac{\\partial^2 u}{\\partial x^2} + \\frac{\\partial^2 u}{\\partial y^2}\\right)(t_n,x_i) \\approx \\frac{u(t_n, x_i + k,y_j) - 2u(t_n,x_i,y_j) + u(t_n, x_i - k, y_j)}{k^2} + \\frac{u(t_n, x_i,y_j + k) - 2u(t_n,x_i,y_j) + u(t_n, x_i, y_j - k)}{k^2}\\approx \\frac{u_{i+1,j}^n -2u_{i,j} ^n + u_{i-1,j}^n}{k^2} + \\frac{u_{i,j + 1}^n -2u_{i,j} ^n + u_{i,j - 1}^n}{k^2}$$\n",
    "\n",
    "Por lo que la ecuacion discretizada queda $$\\frac{u_{i,j} ^{n+1} - u_{i,j} ^n}{h} = D\\frac{u_{i+1,j}^n - 2u_{i,j} ^n + u_{i-1,j}^n + u_{i,j + 1}^n -2u_{i,j} ^n + u_{i,j - 1}^n}{k^2}$$\n",
    "\n",
    "Así, se obtiene: $$u_{i,j} ^{n+1} = u_{i,j} ^n + D\\frac{h}{k^2}(u_{i+1,j}^n + u_{i,j + 1}^n - 2(u_{i,j} ^n + u_{i,j} ^n) + u_{i-1,j}^n + u_{i,j - 1}^n)$$\n",
    "\n",
    "Ahora, las condiciones de frontera de Dirichlet son $u(t, -L, -L) = u(t, +L, +L) = 0,  \\forall t > 0$.\n",
    "\n",
    "De estas condiciones, se espera que la difusión se vaya esparciendo a lo largo de la región de estudio, pero que la \"concentración\" sea muy baja en las fronteras de la región.\n",
    "\n",
    "A continuación se muestra el método para la función de calor con condicones de Dirichlet:"
   ]
  },
  {
   "cell_type": "code",
   "execution_count": 17,
   "metadata": {},
   "outputs": [
    {
     "data": {
      "text/plain": [
       "calor_delta2D (generic function with 1 method)"
      ]
     },
     "execution_count": 17,
     "metadata": {},
     "output_type": "execute_result"
    }
   ],
   "source": [
    "function calor_delta2D(h,k,t0,tf,L,D) #Definimos el método como con la ecuación en 1D\n",
    "    th = Float64[]\n",
    "    xk = Float64[]\n",
    "    yk = Float64[]\n",
    "    for i in t0:h:tf\n",
    "        push!(th,i)\n",
    "    end\n",
    "    for i in -L:k:L \n",
    "        push!(xk,i)\n",
    "    end\n",
    "    U = Float64[]\n",
    "    for i in 1:length(xk)\n",
    "        if xk[i] == 0\n",
    "             push!(U,1/k)\n",
    "        else\n",
    "            push!(U,0.0)\n",
    "        end\n",
    "    end  \n",
    "    Ui = [transpose(U) ; zeros((length(th) -1),length(xk))]\n",
    "    for i in 2:length(th)\n",
    "        for j in 1:length(U)\n",
    "            if j == 1\n",
    "                Ui[i,j] = 0.0\n",
    "            elseif j == length(U)\n",
    "                Ui[i,j] = 0.0\n",
    "            else\n",
    "                Ui[i,j] = Ui[i - 1,j] + D*(h/(k^2))*(Ui[i - 1, j + 1] + Ui[i - 1,j] - 2*(Ui[i - 1,j] + Ui[i - 1,j]) + Ui[i - 1,                           j - 1] + Ui[i - 1,j])\n",
    "            end\n",
    "        end\n",
    "    end\n",
    "    return Ui\n",
    "end"
   ]
  },
  {
   "cell_type": "code",
   "execution_count": 18,
   "metadata": {},
   "outputs": [
    {
     "data": {
      "text/plain": [
       "101×201 Array{Float64,2}:\n",
       " 0.0  0.0      0.0        0.0          …  0.0        0.0      0.0\n",
       " 0.0  0.0      0.0        0.0             0.0        0.0      0.0\n",
       " 0.0  0.0      0.0        0.0             0.0        0.0      0.0\n",
       " 0.0  0.0      0.0        0.0             0.0        0.0      0.0\n",
       " 0.0  0.0      0.0        0.0             0.0        0.0      0.0\n",
       " 0.0  0.0      0.0        0.0          …  0.0        0.0      0.0\n",
       " 0.0  0.0      0.0        0.0             0.0        0.0      0.0\n",
       " 0.0  0.0      0.0        0.0             0.0        0.0      0.0\n",
       " 0.0  0.0      0.0        0.0             0.0        0.0      0.0\n",
       " 0.0  0.0      0.0        0.0             0.0        0.0      0.0\n",
       " 0.0  0.0      0.0        0.0          …  0.0        0.0      0.0\n",
       " 0.0  0.0      0.0        0.0             0.0        0.0      0.0\n",
       " 0.0  0.0      0.0        0.0             0.0        0.0      0.0\n",
       " ⋮                                     ⋱                      ⋮  \n",
       " 0.0  0.0      0.0        0.0             0.0        0.0      0.0\n",
       " 0.0  0.0      0.0        0.0          …  0.0        0.0      0.0\n",
       " 0.0  0.0      0.0        0.0             0.0        0.0      0.0\n",
       " 0.0  0.0      0.0        0.0             0.0        0.0      0.0\n",
       " 0.0  0.0      0.0        0.0             0.0        0.0      0.0\n",
       " 0.0  0.0      0.0        0.0             0.0        0.0      0.0\n",
       " 0.0  0.0      0.0        0.0          …  0.0        0.0      0.0\n",
       " 0.0  0.0      0.0        0.0             0.0        0.0      0.0\n",
       " 0.0  0.0      0.0        1.0e-96         0.0        0.0      0.0\n",
       " 0.0  0.0      1.0e-97    7.84e-95        1.0e-97    0.0      0.0\n",
       " 0.0  1.0e-98  7.92e-96   3.10563e-93     7.92e-96   1.0e-98  0.0\n",
       " 0.0  8.0e-97  3.169e-94  8.28696e-92  …  3.169e-94  8.0e-97  0.0"
      ]
     },
     "execution_count": 18,
     "metadata": {},
     "output_type": "execute_result"
    }
   ],
   "source": [
    "calor_delta2D(0.1,0.1,0,10,10,0.01) #Ejemplo"
   ]
  },
  {
   "cell_type": "markdown",
   "metadata": {},
   "source": [
    "#### Referencias:\n",
    "__[1]ZEMANSKY, Mark.Calor y termódinámica. McGraw Hill. Sexta edición.__\n",
    "\n",
    "__[2]\"Discretización\" en http://materias.fi.uba.ar/7609/material/Clase%2002/03%20a%20Sistemas%20Discretos.pdf. Revisado: 04/NOV/2017 19:00__"
   ]
  },
  {
   "cell_type": "code",
   "execution_count": null,
   "metadata": {},
   "outputs": [],
   "source": []
  }
 ],
 "metadata": {
  "kernelspec": {
   "display_name": "Julia 0.5.2",
   "language": "julia",
   "name": "julia-0.5"
  },
  "language_info": {
   "file_extension": ".jl",
   "mimetype": "application/julia",
   "name": "julia",
   "version": "0.5.2"
  }
 },
 "nbformat": 4,
 "nbformat_minor": 2
}
