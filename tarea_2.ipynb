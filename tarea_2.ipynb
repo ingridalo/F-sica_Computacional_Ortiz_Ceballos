{
 "cells": [
  {
   "cell_type": "markdown",
   "metadata": {},
   "source": [
    "# EJERCICIO 1"
   ]
  },
  {
   "cell_type": "code",
   "execution_count": 15,
   "metadata": {
    "collapsed": false
   },
   "outputs": [
    {
     "name": "stderr",
     "output_type": "stream",
     "text": [
      "WARNING: Method definition newton(Any, Any) in module Main at In[13]:4 overwritten at In[15]:4.\n",
      "\u001b[1m\u001b[31mWARNING: replacing docs for 'newton :: Tuple{Any,Any}' in module 'Main'.\u001b[0m\n"
     ]
    },
    {
     "data": {
      "text/plain": [
       "newton"
      ]
     },
     "execution_count": 15,
     "metadata": {},
     "output_type": "execute_result"
    }
   ],
   "source": [
    "\"Esta función hace uso del método de newton para calcular la raíz de un polinomio.\"\n",
    "function newton(a,y)\n",
    "    \n",
    "    x=y\n",
    "    \n",
    "    for i in 1:100 \n",
    "        \n",
    "    x=x-(x*tan(x)-(complex(a-x^2))^(0.5))/(x*sec(x)^2+(x/(complex(a-x^2))^(0.5)+tan(x)))\n",
    "    \n",
    "    end \n",
    "    \n",
    "    return x, (x*tan(x)-(complex(a-x^2))^(0.5))\n",
    "    \n",
    "    end\n",
    "\n",
    "    "
   ]
  },
  {
   "cell_type": "code",
   "execution_count": 16,
   "metadata": {
    "collapsed": false
   },
   "outputs": [
    {
     "data": {
      "text/plain": [
       "(1.1862608165029145 + 0.0im,1.3322676295501878e-15 + 0.0im)"
      ]
     },
     "execution_count": 16,
     "metadata": {},
     "output_type": "execute_result"
    }
   ],
   "source": [
    "newton(10,1)"
   ]
  },
  {
   "cell_type": "code",
   "execution_count": 17,
   "metadata": {
    "collapsed": false
   },
   "outputs": [
    {
     "name": "stdout",
     "output_type": "stream",
     "text": [
      "search:\n",
      "\n"
     ]
    },
    {
     "data": {
      "text/markdown": [
       "Esta función hace uso del método de newton para calcular la raíz de un polinomio.\n"
      ],
      "text/plain": [
       "Esta función hace uso del método de newton para calcular la raíz de un polinomio.\n"
      ]
     },
     "execution_count": 17,
     "metadata": {},
     "output_type": "execute_result"
    }
   ],
   "source": [
    "?newton"
   ]
  },
  {
   "cell_type": "code",
   "execution_count": null,
   "metadata": {
    "collapsed": true
   },
   "outputs": [],
   "source": []
  }
 ],
 "metadata": {
  "kernelspec": {
   "display_name": "Julia 0.5.2",
   "language": "julia",
   "name": "julia-0.5"
  },
  "language_info": {
   "file_extension": ".jl",
   "mimetype": "application/julia",
   "name": "julia",
   "version": "0.5.2"
  }
 },
 "nbformat": 4,
 "nbformat_minor": 2
}
