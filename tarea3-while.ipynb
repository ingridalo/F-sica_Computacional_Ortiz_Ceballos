{
 "cells": [
  {
   "cell_type": "code",
   "execution_count": 20,
   "metadata": {
    "collapsed": false
   },
   "outputs": [
    {
     "name": "stderr",
     "output_type": "stream",
     "text": [
      "\u001b[1m\u001b[33mWARNING: \u001b[39m\u001b[22m\u001b[33mreplacing docs for 'newton :: Union{Tuple{Any,Any,Any}, Tuple{Any,Any}}' in module 'Main'.\u001b[39m\n"
     ]
    },
    {
     "data": {
      "text/plain": [
       "newton"
      ]
     },
     "execution_count": 20,
     "metadata": {},
     "output_type": "execute_result"
    }
   ],
   "source": [
    "\"Esta función hace uso del método de newton para calcular la raíz de un polinomio.\"\n",
    "function newton(a,y,m=1/10^10)   \n",
    "    \n",
    "f(r)=(r*tan(r)-(complex(a-r^2))^(0.5))\n",
    "    x=y-(y*tan(y)-(complex(a-y^2))^(0.5))/(y*sec(y)^2+(y/(complex(a-y^2))^(0.5)+tan(y)))\n",
    "    F=f(x)\n",
    "       while m<abs(F)\n",
    "    \n",
    "   x=x-(x*tan(x)-(complex(a-x^2))^(0.5))/(x*sec(x)^2+(x/(complex(a-x^2))^(0.5)+tan(x)))\n",
    "        F=f(x)\n",
    "        end \n",
    " \n",
    "\n",
    "    \n",
    "    return x, f(x)\n",
    "    \n",
    "    end"
   ]
  },
  {
   "cell_type": "code",
   "execution_count": 3,
   "metadata": {
    "collapsed": false
   },
   "outputs": [
    {
     "name": "stdout",
     "output_type": "stream",
     "text": [
      "newton = newton\n"
     ]
    },
    {
     "data": {
      "text/plain": [
       "newton (generic function with 2 methods)"
      ]
     },
     "execution_count": 3,
     "metadata": {},
     "output_type": "execute_result"
    }
   ],
   "source": [
    "@show newton"
   ]
  },
  {
   "cell_type": "code",
   "execution_count": null,
   "metadata": {
    "collapsed": false
   },
   "outputs": [],
   "source": [
    "newton(10,)"
   ]
  },
  {
   "cell_type": "code",
   "execution_count": null,
   "metadata": {
    "collapsed": true
   },
   "outputs": [],
   "source": []
  }
 ],
 "metadata": {
  "kernelspec": {
   "display_name": "Julia 0.6.0",
   "language": "julia",
   "name": "julia-0.6"
  },
  "language_info": {
   "file_extension": ".jl",
   "mimetype": "application/julia",
   "name": "julia",
   "version": "0.6.0"
  }
 },
 "nbformat": 4,
 "nbformat_minor": 2
}
