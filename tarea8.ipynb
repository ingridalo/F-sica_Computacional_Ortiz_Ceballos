{
 "cells": [
  {
   "cell_type": "markdown",
   "metadata": {},
   "source": [
    "# Ejercicio 1"
   ]
  },
  {
   "cell_type": "markdown",
   "metadata": {},
   "source": [
    "Escribe una función `derivadaNumerica` que reciba: una función $f\\colon \\mathbb{R}\\mapsto\\mathbb{R}$, un punto $x_0\\in\\mathbb{R}$ y un número $h\\in\\mathbb{R}$. Esta función deberá calcular una aproximación a la derivada utilizando la definición indicada arriba ignorando la parte del límite. Es decir, algo como: `derivada_numerica(f,x,h)`."
   ]
  },
  {
   "cell_type": "code",
   "execution_count": 1,
   "metadata": {
    "collapsed": true
   },
   "outputs": [],
   "source": [
    "using SymPy"
   ]
  },
  {
   "cell_type": "code",
   "execution_count": 2,
   "metadata": {
    "collapsed": false
   },
   "outputs": [],
   "source": [
    "function derivadanumerica(f,a,h)\n",
    "x=Sym(\"x\") \n",
    "    \n",
    "    x=(f(a+h)-f(a))/h\n",
    "        \n",
    "        \n",
    "  return x \n",
    "    \n",
    "end;"
   ]
  },
  {
   "cell_type": "code",
   "execution_count": 3,
   "metadata": {
    "collapsed": false
   },
   "outputs": [
    {
     "data": {
      "text/plain": [
       "2.0000000000000018"
      ]
     },
     "execution_count": 3,
     "metadata": {},
     "output_type": "execute_result"
    }
   ],
   "source": [
    "derivadanumerica(x->2x,1,0.1) #EJEMPLO PARA VER QUE LA FUNCIÓN SIRVE"
   ]
  },
  {
   "cell_type": "code",
   "execution_count": 4,
   "metadata": {
    "collapsed": false
   },
   "outputs": [
    {
     "data": {
      "text/plain": [
       "-0.479864249944395"
      ]
     },
     "execution_count": 4,
     "metadata": {},
     "output_type": "execute_result"
    }
   ],
   "source": [
    "derivadanumerica(x->cos(x),0.5,0.001) #DERIVADA NUMÉRICA DE COS(X) "
   ]
  },
  {
   "cell_type": "code",
   "execution_count": 5,
   "metadata": {
    "collapsed": false
   },
   "outputs": [
    {
     "data": {
      "text/latex": [
       "$$-0.479425538604203$$"
      ],
      "text/plain": [
       "-0.479425538604203"
      ]
     },
     "execution_count": 5,
     "metadata": {},
     "output_type": "execute_result"
    }
   ],
   "source": [
    "x=Sym(\"x\")\n",
    "diff(cos(x))(0.5)  #RESULTADO EXACTO  DE LA DERIVADA"
   ]
  },
  {
   "cell_type": "markdown",
   "metadata": {},
   "source": [
    "# Ejercicio 7"
   ]
  },
  {
   "cell_type": "markdown",
   "metadata": {},
   "source": [
    "Explotar la relación $\\delta_h=\\Delta_h-\\Delta_{-h}$, donde $\\delta_h:f(x)\\mapsto f(x+h)-f(x-h)$, para encontrar cual es la función $\\theta$ que relaciona a $\\delta_h$ con el operador derivada exacta, es decir:\n",
    "$$\\delta_h=\\theta\\left(h\\left. \\frac{d}{d\\xi}\\right|_{\\xi=x}\\right).$$\n",
    "\n",
    "Una vez que la encuentren, despejen $\\left. \\frac{d}{d\\xi}\\right|_{\\xi=x}$ y calculen la serie de Taylor de mánera similar a lo mostrado en las ecuaciones 3 y 4."
   ]
  },
  {
   "cell_type": "markdown",
   "metadata": {
    "collapsed": true
   },
   "source": [
    "### SOLUCIÓN\n",
    "\n",
    "De acuerdo a las notas del tema \"Diferencias finitas\" del repositorio de la clase, podemos escribir a $\\Delta_{h}$ y a $\\Delta_{-h}$ respectivamente como:\n",
    "\n",
    "$$\\Delta_h=\\sum_{n=1}^{\\infty} \\frac{1}{n!}h^n\\left.\\frac{d^n}{d\\xi^n}\\right|_{\\substack{ \\xi=x }}= \\Phi (h \\left.\\frac{d}{d\\xi}\\right|_{\\substack{ \\xi=x }} ) = e^{h \\left.\\frac{d}{d\\xi}\\right|_{\\substack{ \\xi=x }}}-1$$\n",
    "\n",
    "Y:\n",
    "\n",
    "$$\\Delta_{-h}=\\sum_{n=1}^{\\infty} \\frac{1}{n!}(-h)^{n}\\left.\\frac{d^n}{d\\xi^n}\\right|_{\\substack{ \\xi=x }}= \\theta (h \\left.\\frac{d}{d\\xi}\\right|_{\\substack{ \\xi=x }} ) = e^{-h \\left.\\frac{d}{d\\xi}\\right|_{\\substack{ \\xi=x }}}-1$$\n",
    "\n",
    "Como $\\delta_{h}=\\Delta_{h}-\\Delta_{-h}$, se tiene que:\n",
    "\n",
    "$$\\delta_{h}= e^{h \\left.\\frac{d}{d\\xi}\\right|_{\\substack{ \\xi=x }}}-1 -(e^{-h \\left.\\frac{d}{d\\xi}\\right|_{\\substack{ \\xi=x }}}-1)$$\n",
    "\n",
    "Entonces:\n",
    "\n",
    "$$\\Rightarrow \\delta_{h}= e^{h \\left.\\frac{d}{d\\xi}\\right|_{\\substack{ \\xi=x }}} -e^{-h \\left.\\frac{d}{d\\xi}\\right|_{\\substack{ \\xi=x }}}$$\n",
    "\n",
    "Sabemos que $sinh(y)=\\frac{e^{y}-e^{-y}}{2}$, por lo que podemos escribir a $\\delta_{h}$ como:\n",
    "\n",
    "$$ \\delta_{h}=2sinh(h \\left.\\frac{d}{d\\xi}\\right|_{\\substack{ \\xi=x }}) \\Rightarrow \\theta (x) =2sinh(x)$$\n",
    "\n",
    "De la expresión anterior, podemos despejar $\\left.\\frac{d}{d\\xi}\\right|_{\\substack{ \\xi=x }}$, quedando así:\n",
    "\n",
    "$$ \\left.\\frac{d}{d\\xi}\\right|_{\\substack{ \\xi=x }} = \\frac{sinh^{-1}(\\frac{\\delta_{h}}{2})}{h} $$\n",
    "\n",
    "El resultado de calcular la serie de Taylor alrededor del cero es:\n",
    "\n",
    "$$ \\left.\\frac{d}{d\\xi}\\right|_{\\substack{ \\xi=x }} = \\frac{1}{h}[\\frac{1}{2}\\delta_{h}-\\frac{1}{48}\\delta^{3}_{h}+\\frac{1}{1280}\\delta^{5}_{h}-...] $$"
   ]
  },
  {
   "cell_type": "code",
   "execution_count": null,
   "metadata": {
    "collapsed": true
   },
   "outputs": [],
   "source": []
  }
 ],
 "metadata": {
  "kernelspec": {
   "display_name": "Julia 0.6.0",
   "language": "julia",
   "name": "julia-0.6"
  },
  "language_info": {
   "file_extension": ".jl",
   "mimetype": "application/julia",
   "name": "julia",
   "version": "0.6.0"
  }
 },
 "nbformat": 4,
 "nbformat_minor": 2
}
