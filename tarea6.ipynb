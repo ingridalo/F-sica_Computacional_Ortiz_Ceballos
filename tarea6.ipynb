{
 "cells": [
  {
   "cell_type": "markdown",
   "metadata": {},
   "source": [
    "# Método del rectángulo"
   ]
  },
  {
   "cell_type": "code",
   "execution_count": 41,
   "metadata": {
    "collapsed": false
   },
   "outputs": [],
   "source": [
    "using SymPy"
   ]
  },
  {
   "cell_type": "code",
   "execution_count": 42,
   "metadata": {
    "collapsed": false
   },
   "outputs": [],
   "source": [
    " #Defino la función rectángulo dando como entradas una función g, a y b son el intervalo   [a,b] y n es el número de particiones.\n",
    "function rectangulo(g::Function,a,b,n)\n",
    "x,k=Sym(\"x,k\") #Se hacen simbólicas la x y la k de la suma.\n",
    "    \n",
    "    h=(b-a)/n\n",
    "    x=summation(cos.x_{i},(k,1,n))\n",
    "        \n",
    "        \n",
    "  return N(x) #transforma a julia\n",
    "    \n",
    "end;"
   ]
  },
  {
   "cell_type": "code",
   "execution_count": 43,
   "metadata": {
    "collapsed": false
   },
   "outputs": [
    {
     "data": {
      "text/plain": [
       "84.072"
      ]
     },
     "execution_count": 43,
     "metadata": {},
     "output_type": "execute_result"
    }
   ],
   "source": [
    "rectangulo(x->2x,4,10,500) #ejemplo con g(x)=2x, [a,b]=[4,10] y n=500"
   ]
  },
  {
   "cell_type": "markdown",
   "metadata": {
    "collapsed": false
   },
   "source": [
    "# Método del trapecio"
   ]
  },
  {
   "cell_type": "code",
   "execution_count": 44,
   "metadata": {
    "collapsed": false
   },
   "outputs": [],
   "source": [
    " #Defino la función trapecio dando como entradas una función f, c y d son el intervalo   [c,d] y n es el número de particiones.\n",
    "function trapecio(f::Function,c,d,n)\n",
    "  x,k=Sym(\"x,k\") #nuevamente se hacen simbólicas x y k para la suma.\n",
    "  \n",
    "    h=(d-c)/n\n",
    "    x=h*(((f(c)+f(d))/2)+summation(f(c+k*h),(k,1,n-1)))\n",
    "  return x\n",
    "    \n",
    "end;"
   ]
  },
  {
   "cell_type": "code",
   "execution_count": 45,
   "metadata": {
    "collapsed": false
   },
   "outputs": [
    {
     "data": {
      "text/latex": [
       "$$84.0$$"
      ],
      "text/plain": [
       "84.0000000000000"
      ]
     },
     "execution_count": 45,
     "metadata": {},
     "output_type": "execute_result"
    }
   ],
   "source": [
    "trapecio(x->2x,4,10,500)  #es el mismo ejemplo que el anterior pero con este método, para comparar resultados, aunque como esta función es lineal, el resultado por este método es exacto."
   ]
  }
 ],
 "metadata": {
  "kernelspec": {
   "display_name": "Julia 0.6.0",
   "language": "julia",
   "name": "julia-0.6"
  },
  "language_info": {
   "file_extension": ".jl",
   "mimetype": "application/julia",
   "name": "julia",
   "version": "0.6.0"
  }
 },
 "nbformat": 4,
 "nbformat_minor": 2
}
