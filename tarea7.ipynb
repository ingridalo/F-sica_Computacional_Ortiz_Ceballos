{
 "cells": [
  {
   "cell_type": "markdown",
   "metadata": {},
   "source": [
    "# Método de Simpson"
   ]
  },
  {
   "cell_type": "code",
   "execution_count": 2,
   "metadata": {
    "collapsed": true
   },
   "outputs": [],
   "source": [
    "using SymPy"
   ]
  },
  {
   "cell_type": "code",
   "execution_count": 4,
   "metadata": {
    "collapsed": false
   },
   "outputs": [],
   "source": [
    "using PyPlot"
   ]
  },
  {
   "cell_type": "code",
   "execution_count": 8,
   "metadata": {
    "collapsed": true
   },
   "outputs": [],
   "source": [
    "#Defino la función simpson dando como entradas una función f, a y b son el intervalo [a,b] y n es el número de particiones.\n",
    "function simpson(f,a,b,n)\n",
    "    \n",
    "    r=0 #Definimos r para irle sumando las aproximaciones\n",
    "    h=(b-a)/n                                     \n",
    "\n",
    "    for i in 1:n #se hace un for para la iteración\n",
    "        x=(h/6)*(f(a+i*h-h)+4*f(a+i*h-h/2)+f(a+i*h)) # la i nos indica el intervalo \n",
    "        r=r+x                                          \n",
    "    end                                                \n",
    "    return r                                          \n",
    "    \n",
    "end;"
   ]
  },
  {
   "cell_type": "code",
   "execution_count": 10,
   "metadata": {
    "collapsed": false
   },
   "outputs": [
    {
     "data": {
      "text/plain": [
       "84.0"
      ]
     },
     "execution_count": 10,
     "metadata": {},
     "output_type": "execute_result"
    }
   ],
   "source": [
    "simpson(x->2x,4,10,5) #ejemplo con f(x)=2x, [a,b]=[4,10] y n=5"
   ]
  },
  {
   "cell_type": "markdown",
   "metadata": {},
   "source": [
    "# Interpolación polinomial en la forma de Lagrange"
   ]
  },
  {
   "cell_type": "code",
   "execution_count": 128,
   "metadata": {
    "collapsed": true
   },
   "outputs": [],
   "source": [
    "#Defino la función lagrange dando como entradas x:lista de los xk, y:lista de los yk y c el punto donde evaluamos el polinomio\n",
    "function lagrange(x,y,c=\"none\")\n",
    "       \n",
    "    r=Sym(\"r\") \n",
    "    #se define esta variable para posteriormente usar la fórmula para interpolar\n",
    "    L=0\n",
    "    #Ponemos lo siguiente para ir guardando los resultados:\n",
    "    t=[]\n",
    "    #indicamos el número de puntos:\n",
    "    q=length(x) \n",
    "    \n",
    "    #hacemos un for para las bases polinomiales:\n",
    "    for i in 1:q\n",
    "        p=1 #se define esta variable para las bases.\n",
    "        \n",
    "        #De acuerdo a la fórmula le ponemos este otro for pero hasta i-1\n",
    "        for n in 1:i-1   \n",
    "            p=p*(r-x[n])/(x[i]-x[n])   \n",
    "        end\n",
    "        #ahora para i+1 hasta q\n",
    "        for n in i+1:q  \n",
    "            p=p*(r-x[n])/(x[i]-x[n])  \n",
    "        end\n",
    "        push!(t,p) \n",
    "    end\n",
    "    #Ahora haremos un for para la funcion L(x) (que es una suma), donde usaremos la variable L que definimos al principio, junto con t[] que nos fue guardando las bases polinomiales:\n",
    "    for i in 1:q\n",
    "        L=L+y[i]*t[i]\n",
    "    end\n",
    "    \n",
    "    global L=lambdify(L,[r])    \n",
    "    \n",
    "     return L(c)\n",
    "    \n",
    "end;"
   ]
  },
  {
   "cell_type": "code",
   "execution_count": 129,
   "metadata": {
    "collapsed": false
   },
   "outputs": [
    {
     "data": {
      "text/plain": [
       "3.25"
      ]
     },
     "execution_count": 129,
     "metadata": {},
     "output_type": "execute_result"
    }
   ],
   "source": [
    "#Para comprobar que funciona, definiremos un x com linspace, una y  como la función y el punto c:\n",
    "x=linspace(1,10,5)\n",
    "y=2x.^3\n",
    "c=x[2] "
   ]
  },
  {
   "cell_type": "code",
   "execution_count": 130,
   "metadata": {
    "collapsed": false
   },
   "outputs": [
    {
     "data": {
      "text/plain": [
       "68.65625000000018"
      ]
     },
     "execution_count": 130,
     "metadata": {},
     "output_type": "execute_result"
    }
   ],
   "source": [
    "lagrange(x,y,c)"
   ]
  },
  {
   "cell_type": "markdown",
   "metadata": {},
   "source": [
    "### Interpolación de cos(x)"
   ]
  },
  {
   "cell_type": "code",
   "execution_count": 131,
   "metadata": {
    "collapsed": false
   },
   "outputs": [
    {
     "data": {
      "text/plain": [
       "30-element Array{Float64,1}:\n",
       "  1.0      \n",
       "  0.976621 \n",
       "  0.907575 \n",
       "  0.796093 \n",
       "  0.647386 \n",
       "  0.468408 \n",
       "  0.267528 \n",
       "  0.0541389\n",
       " -0.161782 \n",
       " -0.370138 \n",
       " -0.561187 \n",
       " -0.725995 \n",
       " -0.856857 \n",
       "  ⋮        \n",
       " -0.725995 \n",
       " -0.561187 \n",
       " -0.370138 \n",
       " -0.161782 \n",
       "  0.0541389\n",
       "  0.267528 \n",
       "  0.468408 \n",
       "  0.647386 \n",
       "  0.796093 \n",
       "  0.907575 \n",
       "  0.976621 \n",
       "  1.0      "
      ]
     },
     "execution_count": 131,
     "metadata": {},
     "output_type": "execute_result"
    }
   ],
   "source": [
    "#Definimos el linspace de 0 a 2pi con 30 pasos y a la función\n",
    "x=linspace(0,2pi,30)\n",
    "y=cos.(x)"
   ]
  },
  {
   "cell_type": "code",
   "execution_count": 132,
   "metadata": {
    "collapsed": false
   },
   "outputs": [
    {
     "data": {
      "text/latex": [
       "$$c$$"
      ],
      "text/plain": [
       "c"
      ]
     },
     "execution_count": 132,
     "metadata": {},
     "output_type": "execute_result"
    }
   ],
   "source": [
    "c=Sym(\"c\") #Definimos cualquier variable para que sea el punto donde evaluaremos a la función"
   ]
  },
  {
   "cell_type": "code",
   "execution_count": 145,
   "metadata": {
    "collapsed": false
   },
   "outputs": [],
   "source": [
    "lagrange(x,y,c);"
   ]
  },
  {
   "cell_type": "code",
   "execution_count": 146,
   "metadata": {
    "collapsed": false
   },
   "outputs": [
    {
     "data": {
      "image/png": "[encoded data removed]",
      "text/plain": [
       "PyPlot.Figure(PyObject <matplotlib.figure.Figure object at 0x7fd50b191310>)"
      ]
     },
     "metadata": {},
     "output_type": "display_data"
    },
    {
     "data": {
      "text/plain": [
       "PyObject <matplotlib.collections.PathCollection object at 0x7fd50b0beb90>"
      ]
     },
     "execution_count": 146,
     "metadata": {},
     "output_type": "execute_result"
    }
   ],
   "source": [
    "plot(x,y)\n",
    "scatter(x,y) #con scatter se ve más claro en dónde están los puntos"
   ]
  },
  {
   "cell_type": "markdown",
   "metadata": {},
   "source": [
    "### Interpolación de $cos^{2}(x)$\n",
    "Se realizará el mismo procedimiento que para cos(x):"
   ]
  },
  {
   "cell_type": "code",
   "execution_count": 97,
   "metadata": {
    "collapsed": false
   },
   "outputs": [
    {
     "data": {
      "text/latex": [
       "$$c$$"
      ],
      "text/plain": [
       "c"
      ]
     },
     "execution_count": 97,
     "metadata": {},
     "output_type": "execute_result"
    }
   ],
   "source": [
    "x=linspace(0,2pi,30)\n",
    "y=(cos.(x)).^2\n",
    "c=Sym(\"c\")"
   ]
  },
  {
   "cell_type": "code",
   "execution_count": 98,
   "metadata": {
    "collapsed": false
   },
   "outputs": [],
   "source": [
    "lagrange(x,y,c);"
   ]
  },
  {
   "cell_type": "code",
   "execution_count": 99,
   "metadata": {
    "collapsed": false
   },
   "outputs": [
    {
     "data": {
      "image/png": "[encoded data removed]",
      "text/plain": [
       "PyPlot.Figure(PyObject <matplotlib.figure.Figure object at 0x7fd50be81650>)"
      ]
     },
     "metadata": {},
     "output_type": "display_data"
    },
    {
     "data": {
      "text/plain": [
       "PyObject <matplotlib.collections.PathCollection object at 0x7fd50b9a5e50>"
      ]
     },
     "execution_count": 99,
     "metadata": {},
     "output_type": "execute_result"
    }
   ],
   "source": [
    "plot(x,y)\n",
    "scatter(x,y)"
   ]
  },
  {
   "cell_type": "code",
   "execution_count": null,
   "metadata": {
    "collapsed": false
   },
   "outputs": [],
   "source": []
  },
  {
   "cell_type": "markdown",
   "metadata": {},
   "source": [
    "### Interpolación de una lista de puntos\n",
    "\n",
    "Ahora se interpolarán los puntos [(0,10),(2,-10),(3,-4),(4,0),(5,5),(6,20),(7,-1)]"
   ]
  },
  {
   "cell_type": "code",
   "execution_count": 136,
   "metadata": {
    "collapsed": false
   },
   "outputs": [
    {
     "data": {
      "text/latex": [
       "$$c$$"
      ],
      "text/plain": [
       "c"
      ]
     },
     "execution_count": 136,
     "metadata": {},
     "output_type": "execute_result"
    }
   ],
   "source": [
    "#Definimos ahora a x e y como listas de números con las respectivas entradas de los puntos a interpolar:\n",
    "x=[0,2,3,4,5,6,7] #estas son las componentes x de cada punto a interpolar\n",
    "y=[10,-10,-4,0,5,20,-1] #estas son las componentes x de cada punto a interpolar\n",
    "c=Sym(\"c\")"
   ]
  },
  {
   "cell_type": "code",
   "execution_count": 137,
   "metadata": {
    "collapsed": false
   },
   "outputs": [],
   "source": [
    "lagrange(x,y,c);"
   ]
  },
  {
   "cell_type": "code",
   "execution_count": 141,
   "metadata": {
    "collapsed": false
   },
   "outputs": [
    {
     "data": {
      "image/png": "[encoded data removed]",
      "text/plain": [
       "PyPlot.Figure(PyObject <matplotlib.figure.Figure object at 0x7fd50b110e90>)"
      ]
     },
     "metadata": {},
     "output_type": "display_data"
    },
    {
     "data": {
      "text/plain": [
       "PyObject <matplotlib.collections.PathCollection object at 0x7fd50b5a6990>"
      ]
     },
     "execution_count": 141,
     "metadata": {},
     "output_type": "execute_result"
    }
   ],
   "source": [
    "plot(x,y)\n",
    "scatter(x,y)"
   ]
  },
  {
   "cell_type": "code",
   "execution_count": 142,
   "metadata": {
    "collapsed": false
   },
   "outputs": [
    {
     "data": {
      "text/latex": [
       "$$- \\frac{173 x^{6}}{2520} + \\frac{113 x^{5}}{84} - \\frac{4957 x^{4}}{504} + \\frac{2731 x^{3}}{84} - \\frac{54571 x^{2}}{1260} + \\frac{83 x}{14} + 10$$"
      ],
      "text/plain": [
       "       6        5         4         3          2            \n",
       "  173*x    113*x    4957*x    2731*x    54571*x    83*x     \n",
       "- ------ + ------ - ------- + ------- - -------- + ---- + 10\n",
       "   2520      84       504        84       1260      14      "
      ]
     },
     "execution_count": 142,
     "metadata": {},
     "output_type": "execute_result"
    }
   ],
   "source": [
    "simplify(lagrange(x,y,Sym(\"x\"))) #esto nos da la ecuación del polinomio interpoladorsimplify(lagrange(x,y,Sym(\"x\"))) #esto nos da la ecuación del polinomio interpolador"
   ]
  }
 ],
 "metadata": {
  "kernelspec": {
   "display_name": "Julia 0.6.0",
   "language": "julia",
   "name": "julia-0.6"
  },
  "language_info": {
   "file_extension": ".jl",
   "mimetype": "application/julia",
   "name": "julia",
   "version": "0.6.0"
  }
 },
 "nbformat": 4,
 "nbformat_minor": 2
}
