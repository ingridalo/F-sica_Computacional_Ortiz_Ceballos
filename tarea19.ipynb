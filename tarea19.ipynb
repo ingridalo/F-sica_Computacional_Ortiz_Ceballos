{
 "cells": [
  {
   "cell_type": "markdown",
   "metadata": {},
   "source": [
    "# TAREA 19"
   ]
  },
  {
   "cell_type": "markdown",
   "metadata": {},
   "source": [
    "__EJERCICIO 1__: Escriba la forma del operador laplaciano utilizando diferencias finitas simétricas. Es decir, discretice: $\\nabla^2=\\frac{\\partial^2 f}{\\partial x^2}+\\frac{\\partial^2 f}{\\partial y^2}+\\frac{\\partial^2 f}{\\partial z^2}$\n",
    "\n",
    "__SOLUCIÓN__:"
   ]
  },
  {
   "cell_type": "markdown",
   "metadata": {},
   "source": [
    "Primero desarrollemos cada parcial:\n",
    "$$\\frac{\\partial^2f}{\\partial x^2}=\\frac{f(x+h,y,z)-2f(x,y,z)+f(x-h,y,z)}{h^2}$$\n",
    "$$\\frac{\\partial^2f}{\\partial x^2}=\\frac{f(x,y+h,z)-2f(x,y,z)+f(x,y-h,z)}{h^2}$$\n",
    "$$\\frac{\\partial^2f}{\\partial x^2}=\\frac{f(x,y,z+h)-2f(x,y,z)+f(x,y,z-h)}{h^2}$$\n",
    "Sustituyendo lo anterior el operador laplaciano es:\n",
    "$$\\nabla^2f=\\frac{f(x+h,y,z)+f(x,y+h,z)+f(x,y,z+h)+f(x-h,y,z)+f(x,y-h,z)+f(x,y,z-h)-6f(x,y,z)}{h^2}$$"
   ]
  },
  {
   "cell_type": "markdown",
   "metadata": {},
   "source": [
    "__EJERCICIO 2 (condiciones a la frontera de Dirichlet)__. Discretice la ecuación \n",
    "$$ \\frac{d^2f}{dx^2}, $$\n",
    "en el intervalo $[0,1]$, y aplicando el operador laplaciano discretizado obtenga el sistema de ecuaciones algebraicas lineales correspondientes al problema de _Dirichlet_:\n",
    "$f(0) = a$ y $f(1) = b$ dividiendo el intervalo $[0,1]$ en $5$ puntos separados por $h$.\n",
    "\n",
    "__SOLUCIÓN__:"
   ]
  },
  {
   "cell_type": "markdown",
   "metadata": {},
   "source": [
    "Utilizando la expreesión: $f''_{i}=f''(ih)\\approx\\frac{f_{i+1}-2f_{i}+f_{i-1}}{h^2}$ Y tomando a $f_{1}=a$ y $f_{5}=b$, se resuelve para cada $f$:\n",
    "\n",
    "$$ \\nabla^2f_{2}\\approx\\frac{f_{3}-2f_{2}+a}{h^2}=0 $$\n",
    "$$\\nabla^2f_{3}\\approx\\frac{f_{4}-2f_{3}+f_{2}}{h^2}=0 $$\n",
    "$$\\nabla^2f_{4}\\approx\\frac{f_{5}-2f_{4}+f_{3}}{h^2}=\\frac{b-2f_{4}+f_{3}}{h^2}=0$$\n",
    "\n",
    "Obteniendo las siguientes ecuaciones:\n",
    "\n",
    "$$f_{3}-2f_{2}+a=0$$\n",
    "$$f_{4}-2f_{3}+f_{2}=0$$\n",
    "$$b-2f_{4}+f_{3}=0$$\n"
   ]
  },
  {
   "cell_type": "markdown",
   "metadata": {},
   "source": [
    "__EJERCICIO 3 (condiciones a la frontera de Neumann)__. Hacer lo mismo para condiciones de _Neumann_, es decir, fijando en los extremos el valor de la primera derivada de la función. Para esto utilice la derivada _hacia adeltante_ en las orillas, es decir, si $f'(0)=a$ y $f'(1)=b$, entonces $(f_1-f_0)/h=a$, etc. No olvide que debe resultar un sistema de ecuación cuya dimensión sea el número de incognitas.\n",
    "\n",
    "__SOLUCIÓN__:"
   ]
  },
  {
   "cell_type": "markdown",
   "metadata": {},
   "source": [
    "Recordamos primero la definición de derivada numérica hacia adelante:\n",
    "$$f'(x)=\\frac{f(x+h)-f(x)}{h}$$\n",
    "Y también para la derivada numérica hacia atrás:\n",
    "$$f'(x)=\\frac{f(x)-f(x-h)}{h}$$\n",
    "\n",
    "Como se dividió al intervalo $[0,1]$ en cinco partes, se tiene: $x_{1}=0$, $x_{2}=0.25$, $x_{3}=0.5$, $x_{4}=0.75$ y $x_{5}=1$. Tomando en cuenta la definición de derivada hacia adelante y hacia atrás, evaluamos la función en $x_{1}$ y en $x_{5}$ de la siguiente forma:\n",
    "$$a=f'(0)=f'(x_{1})=\\frac{f(x_{1}+h)-f(x_{1})}{h}=\\frac{f_{2}-f_{1}}{h}$$\n",
    "$$b=f'(1)=f'(x_{5})=\\frac{f(x_{5})-f(x_{5}-h)}{h}=\\frac{f_{5}-f_{4}}{h}$$\n",
    "Obteniendo dos ecuaciones:\n",
    "$$ah=f_{2}-f_{1}$$ \n",
    "$$bh=f_{5}-f_{4}$$\n",
    "\n",
    "Se pueden encontrar las ecuaciones que hacen falta con la expresión $\\frac{f_{i+1}-2f_{i}+f_{i-1}}{h^2}=0$, obteniendo:\n",
    "$$f_{3}-2f_{2}+f_{1}=0$$\n",
    "$$f_{4}-2f_{3}+f_{2}=0$$\n",
    "$$f_{5}-2f_{4}+f_{3}=0$$\n",
    "\n",
    "Ahora se tiene un sistema de cinco incógnitas y 5 ecuaciones:\n",
    "$$f_{2}-f_{1}-ah=0$$\n",
    "$$f_{3}-2f_{2}+f_{1}=0$$\n",
    "$$f_{4}-2f_{3}+f_{2}=0$$\n",
    "$$f_{5}-2f_{4}+f_{3}=0$$\n",
    "$$f_{5}-f_{4}-bh=0$$\n"
   ]
  },
  {
   "cell_type": "markdown",
   "metadata": {},
   "source": [
    "__EJERCICIO 4 (indexación)__. `Julia` es más eficiente\n",
    "si se utiliza un único índice para acceder a los elementos\n",
    "de una matriz, además que puede simplificar algunos problemas. Escribe una función $\\phi$ que traduzca un par de\n",
    "índices $i,j$ a un único índice $k$, es decir:\n",
    "$$\\phi: (i,j) \\mapsto k.$$\n",
    "También encuentren $\\phi^{-1}$. Note que $\\phi$ deberá depender de las dimensiones del arreglo, por lo menos de una de ellas.\n",
    "\n",
    "__SOLUCIÓN__:"
   ]
  },
  {
   "cell_type": "markdown",
   "metadata": {},
   "source": [
    "El ejemplo más sencillo para proponer la función es considerando una Matriz de mxn: $A_{mxn}$, así, proponemos:\n",
    "$$\\phi(i,j)=j+m(i-1)=k$$\n",
    "Para encontras su inversa, notemos que el mínimo valor de $j$ es 1 cuando $i=1$ y si $i=n$ entonces el máximo valor de $j$ es $j=m$:\n",
    "$$\\Rightarrow k=1+m(i-1)$$ \n",
    "$$k=im$$\n",
    "$$\\Rightarrow i=\\frac{k}{m}$$\n",
    "\n",
    "Sustituyendo en la función, encontramos el valor de $j$:\n",
    "$$j=k-(i-1)m=k-(\\frac{k}{m}-1)m=m$$\n",
    "\n",
    "Obteniendo así:\n",
    "\n",
    "$$\\phi(i,j)=j+m(i-1)$$\n",
    "$$\\phi^{-1}(k)=(\\frac{k}{m}, m)$$\n",
    "\n",
    "A modo de ejemplo consideremos $A_{2x3}$:\n",
    "$$\\phi(i,j)=3+3(2-1)=6$$\n",
    "$$\\phi^{-1}(6)=(\\frac{6}{3}, 3)=(2,3)$$"
   ]
  },
  {
   "cell_type": "code",
   "execution_count": null,
   "metadata": {},
   "outputs": [],
   "source": []
  }
 ],
 "metadata": {
  "kernelspec": {
   "display_name": "Julia 0.5.2",
   "language": "julia",
   "name": "julia-0.5"
  },
  "language_info": {
   "file_extension": ".jl",
   "mimetype": "application/julia",
   "name": "julia",
   "version": "0.5.2"
  }
 },
 "nbformat": 4,
 "nbformat_minor": 2
}
