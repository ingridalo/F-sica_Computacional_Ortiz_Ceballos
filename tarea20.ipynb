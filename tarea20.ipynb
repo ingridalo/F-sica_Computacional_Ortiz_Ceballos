{
 "cells": [
  {
   "cell_type": "markdown",
   "metadata": {},
   "source": [
    "# TAREA 12\n",
    "\n",
    "### EJERCICIO 1\n",
    "Crear una rutina que construya $A$ y $\\vec b$ para este sistema. Resuelvalo utilizando la función `inv` y grafique $\\vec f$ utilizando la funcion `pcolormesh`. Recuerde que aqui $\\vec f$ es un vector, para volverlo de nuevo una matriz con entradas $f_{i,j}$ pueden usar la función `reshape`.\n",
    "\n"
   ]
  },
  {
   "cell_type": "markdown",
   "metadata": {},
   "source": [
    "### SOLUCIÓN\n",
    "\n",
    "Para una malla de 5 por 6 resolver la ecuación de Laplace utilizando las condiciones  a la frontera siguiente: en la parte superior, toma los valores\n",
    "$\\{0, 70.7107, 100., 70.7107, 0\\}$ y en el resto de bordes es cero. El sistema\n",
    "de ecuaciones es el siguiente\n",
    "\n",
    "\n",
    "\\begin{align*}\n",
    "-4 f_{2,2}+f_{2,3}+f_{3,2}=0,\\\\f_{2,2}-4 f_{2,3}+f_{2,4}+f_{3,3}=0,\\\\f_{2,3}-4 f_{2,4}+f_{2,5}+f_{3,4}=0,\\\\f_{2,4}-4\n",
    "   f_{2,5}+f_{2,6}+f_{3,5}=0,\\\\f_{2,5}-4 f_{2,6}+f_{3,6}+70.7107=0,\\\\f_{2,2}-4 f_{3,2}+f_{3,3}+f_{4,2}=0,\\\\f_{2,3}+f_{3,2}-4\n",
    "   f_{3,3}+f_{3,4}+f_{4,3}=0,\\\\f_{2,4}+f_{3,3}-4 f_{3,4}+f_{3,5}+f_{4,4}=0,\\\\f_{2,5}+f_{3,4}-4 f_{3,5}+f_{3,6}+f_{4,5}=0,\\\\f_{2,6}+f_{3,5}-4\n",
    "   f_{3,6}+f_{4,6}+100.=0,\\\\f_{3,2}-4 f_{4,2}+f_{4,3}=0,\\\\f_{3,3}+f_{4,2}-4 f_{4,3}+f_{4,4}=0,\\\\f_{3,4}+f_{4,3}-4 f_{4,4}+f_{4,5}=0,\\\\f_{3,5}+f_{4,4}-4\n",
    "   f_{4,5}+f_{4,6}=0,\\\\f_{3,6}+f_{4,5}-4 f_{4,6}+70.7107=0.\n",
    "\\end{align*}\n",
    "\n",
    "El sistema de ecuaciones resultante es $A \\vec f +\\vec b= \\vec 0$ con $A$ igual a la siguiente matriz\n",
    "\n",
    "$$\n",
    "\\left(\n",
    "\\begin{array}{ccccccccccccccc}\n",
    " -4. & 1. & 0 & 0 & 0 & 1. & 0 & 0 & 0 & 0 & 0 & 0 & 0 & 0 & 0 \\\\\n",
    " 1. & -4. & 1. & 0 & 0 & 0 & 1. & 0 & 0 & 0 & 0 & 0 & 0 & 0 & 0 \\\\\n",
    " 0 & 1. & -4. & 1. & 0 & 0 & 0 & 1. & 0 & 0 & 0 & 0 & 0 & 0 & 0 \\\\\n",
    " 0 & 0 & 1. & -4. & 1. & 0 & 0 & 0 & 1. & 0 & 0 & 0 & 0 & 0 & 0 \\\\\n",
    " 0 & 0 & 0 & 1. & -4. & 0 & 0 & 0 & 0 & 1. & 0 & 0 & 0 & 0 & 0 \\\\\n",
    " 1. & 0 & 0 & 0 & 0 & -4. & 1. & 0 & 0 & 0 & 1. & 0 & 0 & 0 & 0 \\\\\n",
    " 0 & 1. & 0 & 0 & 0 & 1. & -4. & 1. & 0 & 0 & 0 & 1. & 0 & 0 & 0 \\\\\n",
    " 0 & 0 & 1. & 0 & 0 & 0 & 1. & -4. & 1. & 0 & 0 & 0 & 1. & 0 & 0 \\\\\n",
    " 0 & 0 & 0 & 1. & 0 & 0 & 0 & 1. & -4. & 1. & 0 & 0 & 0 & 1. & 0 \\\\\n",
    " 0 & 0 & 0 & 0 & 1. & 0 & 0 & 0 & 1. & -4. & 0 & 0 & 0 & 0 & 1. \\\\\n",
    " 0 & 0 & 0 & 0 & 0 & 1. & 0 & 0 & 0 & 0 & -4. & 1. & 0 & 0 & 0 \\\\\n",
    " 0 & 0 & 0 & 0 & 0 & 0 & 1. & 0 & 0 & 0 & 1. & -4. & 1. & 0 & 0 \\\\\n",
    " 0 & 0 & 0 & 0 & 0 & 0 & 0 & 1. & 0 & 0 & 0 & 1. & -4. & 1. & 0 \\\\\n",
    " 0 & 0 & 0 & 0 & 0 & 0 & 0 & 0 & 1. & 0 & 0 & 0 & 1. & -4. & 1. \\\\\n",
    " 0 & 0 & 0 & 0 & 0 & 0 & 0 & 0 & 0 & 1. & 0 & 0 & 0 & 1. & -4. \\\\\n",
    "\\end{array}\n",
    "\\right)\n",
    "$$\n",
    "y $b$ de la forma\n",
    "\n",
    "$$\n",
    "(0.,0.,0.,0.,70.7107,0.,0.,0.,0.,100.,0.,0.,0.,0.,70.7107)^T.\n",
    "$$\n",
    "\n",
    "La solución a este sistema es $\\vec f=-A^{-1}\\vec b$."
   ]
  },
  {
   "cell_type": "code",
   "execution_count": 4,
   "metadata": {},
   "outputs": [
    {
     "data": {
      "text/plain": [
       "15×15 Array{Int64,2}:\n",
       " -4   1   0   0   0   1   0   0   0   0   0   0   0   0   0\n",
       "  1  -4   1   0   0   0   1   0   0   0   0   0   0   0   0\n",
       "  0   1  -4   1   0   0   0   1   0   0   0   0   0   0   0\n",
       "  0   0   1  -4   1   0   0   0   1   0   0   0   0   0   0\n",
       "  0   0   0   1  -4   1   0   0   0   1   0   0   0   0   0\n",
       "  1   0   0   0   1  -4   1   0   0   0   1   0   0   0   0\n",
       "  0   1   0   0   0   1  -4   1   0   0   0   1   0   0   0\n",
       "  0   0   1   0   0   0   1  -4   1   0   0   0   1   0   0\n",
       "  0   0   0   1   0   0   0   1  -4   1   0   0   0   1   0\n",
       "  0   0   0   0   1   0   0   0   1  -4   1   0   0   0   1\n",
       "  0   0   0   0   0   1   0   0   0   1  -4   1   0   0   0\n",
       "  0   0   0   0   0   0   1   0   0   0   1  -4   1   0   0\n",
       "  0   0   0   0   0   0   0   1   0   0   0   1  -4   1   0\n",
       "  0   0   0   0   0   0   0   0   1   0   0   0   1  -4   1\n",
       "  0   0   0   0   0   0   0   0   0   1   0   0   0   1  -4"
      ]
     },
     "execution_count": 4,
     "metadata": {},
     "output_type": "execute_result"
    }
   ],
   "source": [
    "#Definimos la matriz A:\n",
    "A=[-4 1 0 0 0 1 0 0 0 0 0 0 0 0 0; 1 -4 1 0 0 0 1 0 0 0 0 0 0 0 0; 0 1 -4 1 0 0 0 1 0 0 0 0 0 0 0; 0 0 1 -4 1 0 0 0 1 0 0 0 0 0 0; 0 0 0 1 -4 1 0 0 0 1 0 0 0 0 0; 1 0 0 0 1 -4 1 0 0 0 1 0 0 0 0; 0 1 0 0 0 1 -4 1 0 0 0 1 0 0 0; 0 0 1 0 0 0 1 -4 1 0 0 0 1 0 0; 0 0 0 1 0 0 0 1 -4 1 0 0 0 1 0; 0 0 0 0 1 0 0 0 1 -4 1 0 0 0 1; 0 0 0 0 0 1 0 0 0 1 -4 1 0 0 0; 0 0 0 0 0 0 1 0 0 0 1 -4 1 0 0; 0 0 0 0 0 0 0 1 0 0 0 1 -4 1 0; 0 0 0 0 0 0 0 0 1 0 0 0 1 -4 1; 0 0 0 0 0 0 0 0 0 1 0 0 0 1 -4]"
   ]
  },
  {
   "cell_type": "code",
   "execution_count": 5,
   "metadata": {},
   "outputs": [
    {
     "data": {
      "text/plain": [
       "15-element Array{Float64,1}:\n",
       "   0.0   \n",
       "   0.0   \n",
       "   0.0   \n",
       "   0.0   \n",
       "  70.7107\n",
       "   0.0   \n",
       "   0.0   \n",
       "   0.0   \n",
       "   0.0   \n",
       " 100.0   \n",
       "   0.0   \n",
       "   0.0   \n",
       "   0.0   \n",
       "   0.0   \n",
       "  70.7107"
      ]
     },
     "execution_count": 5,
     "metadata": {},
     "output_type": "execute_result"
    }
   ],
   "source": [
    "#Definimos a b:\n",
    "b=zeros(15)\n",
    "b[5]=70.7107\n",
    "b[10]=100\n",
    "b[15]=70.7107\n",
    "b"
   ]
  },
  {
   "cell_type": "code",
   "execution_count": 6,
   "metadata": {},
   "outputs": [
    {
     "data": {
      "text/plain": [
       "15-element Array{Float64,1}:\n",
       "  7.72048\n",
       "  8.61624\n",
       " 11.6129 \n",
       " 20.8596 \n",
       " 42.968  \n",
       " 22.2657 \n",
       " 15.1316 \n",
       " 16.9757 \n",
       " 28.8575 \n",
       " 58.0362 \n",
       " 23.2427 \n",
       " 12.6688 \n",
       " 12.3008 \n",
       " 19.5587 \n",
       " 37.0764 "
      ]
     },
     "execution_count": 6,
     "metadata": {},
     "output_type": "execute_result"
    }
   ],
   "source": [
    "#Definimos f:\n",
    "f=-inv(A)*b"
   ]
  },
  {
   "cell_type": "code",
   "execution_count": 7,
   "metadata": {},
   "outputs": [
    {
     "data": {
      "text/plain": [
       "3×5 Array{Float64,2}:\n",
       "  7.72048  20.8596  15.1316  58.0362  12.3008\n",
       "  8.61624  42.968   16.9757  23.2427  19.5587\n",
       " 11.6129   22.2657  28.8575  12.6688  37.0764"
      ]
     },
     "execution_count": 7,
     "metadata": {},
     "output_type": "execute_result"
    }
   ],
   "source": [
    "#Utilizamos reshape para poner a f en 3x5 y la renombramos como g para posteriormente usar pcolormesh:\n",
    "g=reshape(f,(3,5))"
   ]
  },
  {
   "cell_type": "code",
   "execution_count": 8,
   "metadata": {},
   "outputs": [],
   "source": [
    "using PyPlot"
   ]
  },
  {
   "cell_type": "code",
   "execution_count": 9,
   "metadata": {},
   "outputs": [
    {
     "data": {
      "image/png": "[encoded data removed]",
      "text/plain": [
       "PyPlot.Figure(PyObject <matplotlib.figure.Figure object at 0x7fc3b1c1c390>)"
      ]
     },
     "metadata": {},
     "output_type": "display_data"
    },
    {
     "data": {
      "text/plain": [
       "PyObject <matplotlib.collections.QuadMesh object at 0x7fc3ace41210>"
      ]
     },
     "execution_count": 9,
     "metadata": {},
     "output_type": "execute_result"
    }
   ],
   "source": [
    "#finalmente usamos pcolormesh sobre el reshape\n",
    "pcolormesh(g)"
   ]
  },
  {
   "cell_type": "markdown",
   "metadata": {},
   "source": [
    "### EJERCICIO 2\n",
    "\n",
    "Resolver ecuación de Poisson unidimensional con $\\rho (x)=\\cos(x)$, en el dominio $[0,2 \\pi]$, utilizando una malla con 12 puntos. Aquí nuevamente hay 10 incognitas, sin embargo note que para el método es mas conveniente definir $\\vec f$ incluyendo las condiciones de frontera."
   ]
  },
  {
   "cell_type": "markdown",
   "metadata": {},
   "source": [
    "### SOLUCIÓN\n",
    "Al ser una malla de 12 puntos en una dimensión se tiene una partición del intervalo $[0,2 \\pi]$ con $h=\\frac{2\\pi}{11}$. Consideremos también que en los extremos la condición es $f(0)=0=f(2\\pi)$.\n",
    "\n",
    "Ahora resolvemos la ecuación: $f''(x)=cos(x)$, para ello tomaremos en cuenta la solución particular y la solución homogénea:\n",
    "\n",
    "(1) Solución particular: $f(x)=-cos(x)$ pues: $f'(x)=sen(x) \\Rightarrow f''(x)=cos(x)$\n",
    "\n",
    "(2) Solución homogénea: Como $f''(x)=0$ la solución es una recta de la forma $f(x)=ax+b$ y con las condiciones iniciales que propusimos: $f(x)=1$\n",
    "\n",
    "Por lo que la solución general es: $f(x)=-cos(x)+1$\n",
    "\n",
    "### MÉTODO DE ITERACIÓN\n",
    "Con el __método de iteración__ tenemos lo siguiente:\n",
    "Usando que $\\frac{u_{i+1}-2u_{i}+u_{i-1}}{h^2}=\\rho(ih)$ y que $u_{1}=u_{12}=0$ obtenemos las siguientes ecuaciones:\n",
    "$$u_{1}-2u_{2}+u_{3}=h^2 \\rho(2h)$$\n",
    "$$u_{2}-2u_{3}+u_{4}=h^2 \\rho(3h)$$\n",
    "$$u_{3}-2u_{4}+u_{5}=h^2 \\rho(4h)$$\n",
    "$$u_{4}-2u_{5}+u_{6}=h^2 \\rho(5h)$$\n",
    "$$u_{5}-2u_{6}+u_{7}=h^2 \\rho(6h)$$\n",
    "$$u_{6}-2u_{7}+u_{8}=h^2 \\rho(7h)$$\n",
    "$$u_{7}-2u_{8}+u_{9}=h^2 \\rho(8h)$$\n",
    "$$u_{8}-2u_{9}+u_{10}=h^2 \\rho(9h)$$\n",
    "$$u_{9}-2u_{10}+u_{11}=h^2 \\rho(10h)$$\n",
    "$$u_{10}-2u_{11}+u_{12}=h^2 \\rho(11h)$$\n",
    "\n",
    "Como $u_{1}=u_{12}=0$ entonces:\n",
    "$$-2u_{2}+u_{3}=h^2 \\rho(2h)$$\n",
    "$$u_{10}-2u_{11}=h^2 \\rho(11h)$$\n",
    "\n",
    "Por lo que cada $u_i$ nos queda como:\n",
    "$$u_{2}=\\frac{1}{2}(u_{3}-h^2 \\rho(2h))$$\n",
    "$$u_{3}=\\frac{1}{2}(u_{2}+u_{4}-h^2 \\rho(3h))$$\n",
    "$$u_{4}=\\frac{1}{2}(u_{3}+u_{5}-h^2 \\rho(4h))$$\n",
    "$$u_{5}=\\frac{1}{2}(u_{4}+u_{6}-h^2 \\rho(5h))$$\n",
    "$$u_{6}=\\frac{1}{2}(u_{5}+u_{7}-h^2 \\rho(6h))$$\n",
    "$$u_{7}=\\frac{1}{2}(u_{6}+u_{8}-h^2 \\rho(7h))$$\n",
    "$$u_{8}=\\frac{1}{2}(u_{7}+u_{9}-h^2 \\rho(8h))$$\n",
    "$$u_{9}=\\frac{1}{2}(u_{8}+u_{10}-h^2 \\rho(9h))$$\n",
    "$$u_{10}=\\frac{1}{2}(u_{9}+u_{11}-h^2 \\rho(10h))$$\n",
    "$$u_{11}=\\frac{1}{2}(u_{10}-h^2 \\rho(11h))$$\n"
   ]
  },
  {
   "cell_type": "code",
   "execution_count": 10,
   "metadata": {},
   "outputs": [],
   "source": [
    "#Definimos h como se mencionó anteriomente y un array de 10 ceros:\n",
    "h=2*pi/11\n",
    "bArray=zeros(10);"
   ]
  },
  {
   "cell_type": "code",
   "execution_count": 11,
   "metadata": {},
   "outputs": [],
   "source": [
    "#Hacemos la iteración:\n",
    "for i in 1:10\n",
    "    bArray[i]=h*h*cos((i+1)*h)\n",
    "end"
   ]
  },
  {
   "cell_type": "code",
   "execution_count": 12,
   "metadata": {},
   "outputs": [
    {
     "data": {
      "text/plain": [
       "10-element Array{Float64,1}:\n",
       "  0.135537 \n",
       " -0.0464328\n",
       " -0.21366  \n",
       " -0.313052 \n",
       " -0.313052 \n",
       " -0.21366  \n",
       " -0.0464328\n",
       "  0.135537 \n",
       "  0.274474 \n",
       "  0.326268 "
      ]
     },
     "execution_count": 12,
     "metadata": {},
     "output_type": "execute_result"
    }
   ],
   "source": [
    "#checamos el array:\n",
    "bArray"
   ]
  },
  {
   "cell_type": "code",
   "execution_count": 13,
   "metadata": {},
   "outputs": [
    {
     "data": {
      "text/plain": [
       "10×10 Array{Int64,2}:\n",
       " -2   1   0   0   0   0   0   0   0   0\n",
       "  1  -2   1   0   0   0   0   0   0   0\n",
       "  0   1  -2   1   0   0   0   0   0   0\n",
       "  0   0   1  -2   1   0   0   0   0   0\n",
       "  0   0   0   1  -2   1   0   0   0   0\n",
       "  0   0   0   0   1  -2   1   0   0   0\n",
       "  0   0   0   0   0   1  -2   1   0   0\n",
       "  0   0   0   0   0   0   1  -2   1   0\n",
       "  0   0   0   0   0   0   0   1  -2   1\n",
       "  0   0   0   0   0   0   0   0   1  -2"
      ]
     },
     "execution_count": 13,
     "metadata": {},
     "output_type": "execute_result"
    }
   ],
   "source": [
    "#Ahora definimos la matriz U:\n",
    "U=[-2 1 0 0 0 0 0 0 0 0; 1 -2 1 0 0 0 0 0 0 0; 0 1 -2 1 0 0 0 0 0 0 ; 0 0 1 -2 1 0 0 0 0 0 ; 0 0 0 1 -2 1 0 0 0 0 ; 0 0 0 0 1 -2 1 0 0 0 ; 0 0 0 0 0 1 -2 1 0 0 ; 0 0 0 0 0 0 1 -2 1 0 ; 0 0 0 0 0 0 0 1 -2 1 ; 0 0 0 0 0 0 0 0 1 -2]"
   ]
  },
  {
   "cell_type": "code",
   "execution_count": 14,
   "metadata": {},
   "outputs": [],
   "source": [
    "uArray=inv(U)*bArray\n",
    "solucionesArray=zeros(12)\n",
    "for i in 2:11\n",
    "    solucionesArray[i]=uArray[i-1]\n",
    "end"
   ]
  },
  {
   "cell_type": "code",
   "execution_count": 15,
   "metadata": {},
   "outputs": [
    {
     "data": {
      "text/plain": [
       "12-element Array{Float64,1}:\n",
       " 0.0     \n",
       " 0.158746\n",
       " 0.584585\n",
       " 1.14231 \n",
       " 1.65486 \n",
       " 1.95949 \n",
       " 1.95949 \n",
       " 1.65486 \n",
       " 1.14231 \n",
       " 0.584585\n",
       " 0.158746\n",
       " 0.0     "
      ]
     },
     "execution_count": 15,
     "metadata": {},
     "output_type": "execute_result"
    }
   ],
   "source": [
    "#definims x e y para graficar las soluciones:\n",
    "x=linspace(0, 2pi, 12)\n",
    "y=-cos.(x)+1"
   ]
  },
  {
   "cell_type": "code",
   "execution_count": 16,
   "metadata": {},
   "outputs": [
    {
     "data": {
      "image/png": "[encoded data removed]",
      "text/plain": [
       "PyPlot.Figure(PyObject <matplotlib.figure.Figure object at 0x7fc3acd97f90>)"
      ]
     },
     "metadata": {},
     "output_type": "display_data"
    },
    {
     "data": {
      "text/plain": [
       "1-element Array{Any,1}:\n",
       " PyObject <matplotlib.lines.Line2D object at 0x7fc3acb01ad0>"
      ]
     },
     "execution_count": 16,
     "metadata": {},
     "output_type": "execute_result"
    }
   ],
   "source": [
    "#Graficamos la solución a primer orden:\n",
    "grid(\"on\")\n",
    "plot(x,y)\n",
    "plot(x,solucionesArray)"
   ]
  },
  {
   "cell_type": "code",
   "execution_count": 17,
   "metadata": {},
   "outputs": [],
   "source": [
    "#Ahora lo hacemos para u3=0=u4\n",
    "U=zeros(12)\n",
    "pArray=zeros(12);"
   ]
  },
  {
   "cell_type": "code",
   "execution_count": 19,
   "metadata": {},
   "outputs": [],
   "source": [
    "#iteramos\n",
    "for i in 1:12\n",
    "    pArray[i]=cos(i*h)\n",
    "end"
   ]
  },
  {
   "cell_type": "code",
   "execution_count": 20,
   "metadata": {},
   "outputs": [
    {
     "data": {
      "text/plain": [
       "12-element Array{Float64,1}:\n",
       "  0.841254\n",
       "  0.415415\n",
       " -0.142315\n",
       " -0.654861\n",
       " -0.959493\n",
       " -0.959493\n",
       " -0.654861\n",
       " -0.142315\n",
       "  0.415415\n",
       "  0.841254\n",
       "  1.0     \n",
       "  0.841254"
      ]
     },
     "execution_count": 20,
     "metadata": {},
     "output_type": "execute_result"
    }
   ],
   "source": [
    "#comprobamos lo que guarda pArray:\n",
    "pArray"
   ]
  },
  {
   "cell_type": "code",
   "execution_count": 22,
   "metadata": {},
   "outputs": [
    {
     "data": {
      "text/plain": [
       "12-element Array{Float64,1}:\n",
       "  0.0        \n",
       "  0.437608   \n",
       "  1.01075    \n",
       "  1.53746    \n",
       "  1.85052    \n",
       "  1.85052    \n",
       "  1.53746    \n",
       "  1.01075    \n",
       "  0.437608   \n",
       " -3.33067e-16\n",
       " -0.163134   \n",
       "  0.0        "
      ]
     },
     "execution_count": 22,
     "metadata": {},
     "output_type": "execute_result"
    }
   ],
   "source": [
    "U[3]=0\n",
    "U[4]=0\n",
    "for k in 1:1000 #lo hacemos para el sistema de ecuaciones:\n",
    "U[2]=0.5*(U[3]-h*h*pArray[2])\n",
    "U[3]=0.5*(U[2]+U[4]-h*h*pArray[3])\n",
    "U[4]=0.5*(U[3]+U[5]-h*h*pArray[4])\n",
    "U[5]=0.5*(U[4]+U[6]-h*h*pArray[5])\n",
    "U[6]=0.5*(U[5]+U[7]-h*h*pArray[6])\n",
    "U[7]=0.5*(U[6]+U[8]-h*h*pArray[7])\n",
    "U[8]=0.5*(U[7]+U[9]-h*h*pArray[8])\n",
    "U[9]=0.5*(U[8]+U[10]-h*h*pArray[9])\n",
    "U[10]=0.5*(U[9]+U[11]-h*h*pArray[10])\n",
    "U[11]=0.5*(U[10]-h*h*pArray[11])\n",
    "end\n",
    "U"
   ]
  },
  {
   "cell_type": "code",
   "execution_count": 23,
   "metadata": {},
   "outputs": [
    {
     "data": {
      "image/png": "[encoded data removed]",
      "text/plain": [
       "PyPlot.Figure(PyObject <matplotlib.figure.Figure object at 0x7fc3acaccf90>)"
      ]
     },
     "metadata": {},
     "output_type": "display_data"
    },
    {
     "data": {
      "text/plain": [
       "1-element Array{Any,1}:\n",
       " PyObject <matplotlib.lines.Line2D object at 0x7fc3aca52910>"
      ]
     },
     "execution_count": 23,
     "metadata": {},
     "output_type": "execute_result"
    }
   ],
   "source": [
    "#Se grafica a primer orden\n",
    "grid(\"on\")\n",
    "plot(x,y)\n",
    "plot(x,U)"
   ]
  },
  {
   "cell_type": "code",
   "execution_count": null,
   "metadata": {},
   "outputs": [],
   "source": []
  }
 ],
 "metadata": {
  "kernelspec": {
   "display_name": "Julia 0.5.2",
   "language": "julia",
   "name": "julia-0.5"
  },
  "language_info": {
   "file_extension": ".jl",
   "mimetype": "application/julia",
   "name": "julia",
   "version": "0.5.2"
  }
 },
 "nbformat": 4,
 "nbformat_minor": 2
}
