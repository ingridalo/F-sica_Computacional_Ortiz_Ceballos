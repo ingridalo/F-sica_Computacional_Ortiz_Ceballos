{
 "cells": [
  {
   "cell_type": "markdown",
   "metadata": {},
   "source": [
    "# Tarea 10\n",
    "Editar las rutinas presentadas en esta clase para calcular la _derivada hacia adelante_ a orden más alto, pero en esta ocasión para el operador _derivada simetrizada_.\n",
    "* No olvide hacer el test de la rutina, similar a lo que se hizo en este notebook para el $cos$."
   ]
  },
  {
   "cell_type": "code",
   "execution_count": 1,
   "metadata": {
    "collapsed": true
   },
   "outputs": [],
   "source": [
    "using SymPy"
   ]
  },
  {
   "cell_type": "code",
   "execution_count": 2,
   "metadata": {
    "collapsed": false
   },
   "outputs": [
    {
     "data": {
      "text/plain": [
       "diffinitadelante (generic function with 1 method)"
      ]
     },
     "execution_count": 2,
     "metadata": {},
     "output_type": "execute_result"
    }
   ],
   "source": [
    "#definimos las funciones como en el ejemplo de la clase\n",
    "function coeffTayAsinh(i)\n",
    "    x=Sym(\"x\"); \n",
    "    h=Sym(\"h\");\n",
    "    N(subs(diff(asinh(x/2.0),x,i)/factorial(Float64(i)),x=>0))\n",
    "end\n",
    "\n",
    "\n",
    "function coeffTayAsinhrat(i)\n",
    "    x=Sym(\"x\"); \n",
    "    h=Sym(\"h\");\n",
    "    subs(diff(asinh(x/2),x,i)/factorial(i),x=>0)\n",
    "end\n",
    "\n",
    "function diffinitadelante(f)\n",
    "    x=Sym(\"x\"); \n",
    "    h=Sym(\"h\");\n",
    "    return (x,h)->f(x+h,h)-f(x-h,h)\n",
    "end"
   ]
  },
  {
   "cell_type": "code",
   "execution_count": 3,
   "metadata": {
    "collapsed": false
   },
   "outputs": [
    {
     "data": {
      "text/plain": [
       "DerivAsinh (generic function with 1 method)"
      ]
     },
     "execution_count": 3,
     "metadata": {},
     "output_type": "execute_result"
    }
   ],
   "source": [
    "function DerivAsinh(f,x,h,a) #donde a es el orden\n",
    "    x=Sym(\"x\"); \n",
    "    h=Sym(\"h\");\n",
    "    r(x,h)=f(x)\n",
    "    g=r\n",
    "    d=0\n",
    "    for i in range(1,a)\n",
    "        g=diffinitadelante(g)\n",
    "        d=d+coeffTayAsinh(i)*g(x,h)\n",
    "    end\n",
    "    d/h\n",
    "end"
   ]
  },
  {
   "cell_type": "code",
   "execution_count": 4,
   "metadata": {
    "collapsed": false
   },
   "outputs": [
    {
     "data": {
      "text/plain": [
       "DerivrationalcoeffAsinh (generic function with 1 method)"
      ]
     },
     "execution_count": 4,
     "metadata": {},
     "output_type": "execute_result"
    }
   ],
   "source": [
    "function DerivrationalcoeffAsinh(f,x,h,a) #dode a es el orden\n",
    "    x=Sym(\"x\"); \n",
    "    h=Sym(\"h\");\n",
    "    r(x,h)=f(x)\n",
    "    g=r\n",
    "    d=0\n",
    "    for i in range(1,a)\n",
    "        g=diffinitadelante(g)\n",
    "        d=d+coeffTayAsinhrat(i)*g(x,h)\n",
    "    end\n",
    "    d/h\n",
    "end"
   ]
  },
  {
   "cell_type": "code",
   "execution_count": null,
   "metadata": {
    "collapsed": true
   },
   "outputs": [],
   "source": [
    "#Probamos la función con seno (por alguna razón tarda mucho en funcionar).\n",
    "DerivAsinh(sin,30.0.1,10)"
   ]
  },
  {
   "cell_type": "code",
   "execution_count": 5,
   "metadata": {
    "collapsed": false
   },
   "outputs": [
    {
     "data": {
      "text/plain": [
       "0.15425144988758405"
      ]
     },
     "execution_count": 5,
     "metadata": {},
     "output_type": "execute_result"
    }
   ],
   "source": [
    "#comprobamos lo anterior:\n",
    "cos(30)"
   ]
  },
  {
   "cell_type": "code",
   "execution_count": 6,
   "metadata": {
    "collapsed": false
   },
   "outputs": [
    {
     "data": {
      "text/latex": [
       "$$2 h \\left. \\frac{d}{d \\xi_{1}} f{\\left (\\xi_{1} \\right )} \\right|_{\\substack{ \\xi_{1}=x }} + \\frac{h^{3}}{3} \\left. \\frac{d^{3}}{d \\xi_{1}^{3}}  f{\\left (\\xi_{1} \\right )} \\right|_{\\substack{ \\xi_{1}=x }} + \\mathcal{O}\\left(h^{4}\\right)$$"
      ],
      "text/plain": [
       "                                 /   3           \\|              \n",
       "                               3 |  d            ||              \n",
       "                              h *|------(f(xi_1))||              \n",
       "                                 |     3         ||              \n",
       "    /  d           \\|            \\dxi_1          /|xi_1=x    / 4\\\n",
       "2*h*|-----(f(xi_1))||       + --------------------------- + O\\h /\n",
       "    \\dxi_1         /|xi_1=x                3                     "
      ]
     },
     "execution_count": 6,
     "metadata": {},
     "output_type": "execute_result"
    }
   ],
   "source": [
    "f=SymFunction(\"f\");\n",
    "x=Sym(\"x\"); \n",
    "h=Sym(\"h\");\n",
    "series(f(x+h)-f(x-h),h,0,4)"
   ]
  },
  {
   "cell_type": "code",
   "execution_count": 7,
   "metadata": {
    "collapsed": false
   },
   "outputs": [
    {
     "data": {
      "text/latex": [
       "$$\\frac{1}{h} \\left(- \\frac{1}{2} f{\\left (- h + x \\right )} + \\frac{1}{2} f{\\left (h + x \\right )}\\right)$$"
      ],
      "text/plain": [
       "  f(-h + x)   f(h + x)\n",
       "- --------- + --------\n",
       "      2          2    \n",
       "----------------------\n",
       "          h           "
      ]
     },
     "execution_count": 7,
     "metadata": {},
     "output_type": "execute_result"
    }
   ],
   "source": [
    "#llamemos \"y\" a la función DerivrationalcoeffAsinh(f,x,h,a), donde a=2:\n",
    "f=SymFunction(\"f\");\n",
    "x=Sym(\"x\");\n",
    "h=Sym(\"h\");\n",
    "y=DerivrationalcoeffAsinh(f,x,h,2)"
   ]
  },
  {
   "cell_type": "code",
   "execution_count": 8,
   "metadata": {
    "collapsed": false
   },
   "outputs": [
    {
     "data": {
      "text/latex": [
       "$$\\left. \\frac{d}{d \\xi_{1}} f{\\left (\\xi_{1} \\right )} \\right|_{\\substack{ \\xi_{1}=x }} + \\frac{h^{2}}{6} \\left. \\frac{d^{3}}{d \\xi_{1}^{3}}  f{\\left (\\xi_{1} \\right )} \\right|_{\\substack{ \\xi_{1}=x }} + \\frac{h^{4}}{120} \\left. \\frac{d^{5}}{d \\xi_{1}^{5}}  f{\\left (\\xi_{1} \\right )} \\right|_{\\substack{ \\xi_{1}=x }} + \\frac{h^{6}}{5040} \\left. \\frac{d^{7}}{d \\xi_{1}^{7}}  f{\\left (\\xi_{1} \\right )} \\right|_{\\substack{ \\xi_{1}=x }} + \\mathcal{O}\\left(h^{8}\\right)$$"
      ],
      "text/plain": [
       "                             /   3           \\|            /   5           \\| \n",
       "                           2 |  d            ||          4 |  d            || \n",
       "                          h *|------(f(xi_1))||         h *|------(f(xi_1))|| \n",
       "                             |     3         ||            |     5         || \n",
       "/  d           \\|            \\dxi_1          /|xi_1=x      \\dxi_1          /|x\n",
       "|-----(f(xi_1))||       + --------------------------- + ----------------------\n",
       "\\dxi_1         /|xi_1=x                6                            120       \n",
       "\n",
       "           /   7           \\|              \n",
       "         6 |  d            ||              \n",
       "        h *|------(f(xi_1))||              \n",
       "           |     7         ||              \n",
       "i_1=x      \\dxi_1          /|xi_1=x    / 8\\\n",
       "----- + --------------------------- + O\\h /\n",
       "                    5040                   "
      ]
     },
     "execution_count": 8,
     "metadata": {},
     "output_type": "execute_result"
    }
   ],
   "source": [
    "#Calculamos la serie a orden 8:\n",
    "h=Sym(\"h\");\n",
    "series(y,h,0,8)"
   ]
  },
  {
   "cell_type": "code",
   "execution_count": null,
   "metadata": {
    "collapsed": true
   },
   "outputs": [],
   "source": []
  }
 ],
 "metadata": {
  "kernelspec": {
   "display_name": "Julia 0.6.0",
   "language": "julia",
   "name": "julia-0.6"
  },
  "language_info": {
   "file_extension": ".jl",
   "mimetype": "application/julia",
   "name": "julia",
   "version": "0.6.0"
  }
 },
 "nbformat": 4,
 "nbformat_minor": 2
}
